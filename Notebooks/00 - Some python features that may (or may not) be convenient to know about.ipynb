{
 "cells": [
  {
   "cell_type": "code",
   "execution_count": 2,
   "metadata": {},
   "outputs": [],
   "source": [
    "%matplotlib inline\n",
    "import numpy as np\n",
    "from matplotlib import pyplot as plt\n",
    "from time import time"
   ]
  },
  {
   "cell_type": "markdown",
   "metadata": {},
   "source": [
    "# Python features\n",
    "\n",
    "The following is a run-through of some features of python that are not obviously numerical features, but may be convenient to know about. If you want to learn more, I recommend:\n",
    "* Actively search the internet for different approaches when you encounter a new problem\n",
    "* Participate and ask questions on pages like stackoverflow:\n",
    " * https://stackoverflow.com/questions/tagged/python\n",
    " * https://physics.stackexchange.com/\n",
    " * https://scicomp.stackexchange.com/\n",
    "* Check out the book *Fluent Python* by Luciano Ramalho"
   ]
  },
  {
   "cell_type": "markdown",
   "metadata": {},
   "source": [
    "## f-strings\n",
    "\n",
    "There are several different ways of producing strings of text from variables in python, but f-strings is the most modern and most convenient.\n",
    "\n",
    "This is not particularly important for numerical purposes, but can be quite handy for printing nicely formatted output such as results of calculations, timing of computations, etc."
   ]
  },
  {
   "cell_type": "code",
   "execution_count": 3,
   "metadata": {},
   "outputs": [
    {
     "name": "stdout",
     "output_type": "stream",
     "text": [
      "hello\n",
      "This is an f-string. hello\n",
      "This is another f-string. 9\n"
     ]
    }
   ],
   "source": [
    "# Declare an f-string by adding f in front,\n",
    "# and use {} to include other variables or evaluate expressions inside the string\n",
    "a = 'hello'\n",
    "print(a)\n",
    "b = f'This is an f-string. {a}'\n",
    "print(b)\n",
    "c = f'This is another f-string. {3**2}'\n",
    "print(c)"
   ]
  },
  {
   "cell_type": "code",
   "execution_count": 6,
   "metadata": {},
   "outputs": [
    {
     "name": "stdout",
     "output_type": "stream",
     "text": [
      "Use :5f (or another number) to limit number decimals:    3.14159\n",
      "Use :5f (or another number) to limit number decimals: 3.14159\n",
      "Use :5e (or another number) to limit number decimals, and print as power of 10: 3.141593e+00\n"
     ]
    }
   ],
   "source": [
    "# Different options for formatting the output exists\n",
    "print(f'Use :5f (or another number) to limit number decimals: {np.pi:10.5f}')\n",
    "\n",
    "print(f'Use :5f (or another number) to limit number decimals: {np.pi:.5f}')\n",
    "print(f'Use :5e (or another number) to limit number decimals, and print as power of 10: {np.pi:5e}')"
   ]
  },
  {
   "cell_type": "code",
   "execution_count": 4,
   "metadata": {},
   "outputs": [
    {
     "name": "stdout",
     "output_type": "stream",
     "text": [
      "An integer:     91283091823, and some more text.\n",
      "An integer:            9234, and some more text.\n",
      "An integer: 91283091823    , and some more text.\n",
      "An integer: 9234           , and some more text.\n"
     ]
    }
   ],
   "source": [
    "# Use < and > to align left and right within\n",
    "# a specified number of spaces\n",
    "print(f'An integer: {91283091823:>15}, and some more text.')\n",
    "print(f'An integer: {9234:>15}, and some more text.')\n",
    "print(f'An integer: {91283091823:<15}, and some more text.')\n",
    "print(f'An integer: {9234:<15}, and some more text.')"
   ]
  },
  {
   "cell_type": "code",
   "execution_count": 5,
   "metadata": {},
   "outputs": [
    {
     "name": "stdout",
     "output_type": "stream",
     "text": [
      "A random number:   802.396\n",
      "A random number:   127.508\n",
      "A random number:  -375.913\n",
      "A random number:  -162.518\n",
      "A random number:   783.088\n"
     ]
    }
   ],
   "source": [
    "R = np.random.normal(loc = 0, scale = 1000, size = 5)\n",
    "for r in R:\n",
    "    print(f'A random number: {r:9.3f}')"
   ]
  },
  {
   "cell_type": "markdown",
   "metadata": {},
   "source": [
    "## List comprehensions\n",
    "\n",
    "List comprehensions are a compact and convenient way of constructing lists."
   ]
  },
  {
   "cell_type": "code",
   "execution_count": 6,
   "metadata": {},
   "outputs": [
    {
     "name": "stdout",
     "output_type": "stream",
     "text": [
      "[1, 4, 9, 16, 25, 36, 49, 64, 81, 100]\n",
      "type(a) = <class 'list'>\n"
     ]
    }
   ],
   "source": [
    "# Make a list of the first 10 squares\n",
    "a = [x**2 for x in range(1, 11)]\n",
    "print(a)\n",
    "print(f'type(a) = {type(a)}')"
   ]
  },
  {
   "cell_type": "code",
   "execution_count": 7,
   "metadata": {},
   "outputs": [
    {
     "name": "stdout",
     "output_type": "stream",
     "text": [
      "[  1.   4.   9.  16.  25.  36.  49.  64.  81. 100.]\n",
      "type(a) = <class 'numpy.ndarray'>, a.dtype = float64\n"
     ]
    }
   ],
   "source": [
    "# For numerical calculations, you will in practice\n",
    "# usually turn the list into an array\n",
    "# (note that in this example, the array is of integer type)\n",
    "a = np.array([x**2 for x in range(1, 11)], dtype = np.float64)\n",
    "print(a)\n",
    "print(f'type(a) = {type(a)}, a.dtype = {a.dtype}')"
   ]
  },
  {
   "cell_type": "code",
   "execution_count": 8,
   "metadata": {},
   "outputs": [
    {
     "name": "stdout",
     "output_type": "stream",
     "text": [
      "[4, 16, 36, 64, 100]\n"
     ]
    }
   ],
   "source": [
    "# Create a list of only the even squares\n",
    "a = [x**2 for x in range(1, 11) if x % 2 == 0]\n",
    "print(a)"
   ]
  },
  {
   "cell_type": "code",
   "execution_count": 9,
   "metadata": {},
   "outputs": [
    {
     "name": "stdout",
     "output_type": "stream",
     "text": [
      "[(0, 0), (0, 1), (0, 2), (0, 3), (0, 4), (1, 0), (1, 1), (1, 2), (1, 3), (1, 4), (2, 0), (2, 1), (2, 2), (2, 3), (2, 4), (3, 0), (3, 1), (3, 2), (3, 3), (3, 4), (4, 0), (4, 1), (4, 2), (4, 3), (4, 4)]\n"
     ]
    }
   ],
   "source": [
    "# Create a list containing all possible pairs\n",
    "# of elements from two other lists\n",
    "A = np.arange(5)\n",
    "B = np.arange(5)\n",
    "C = [(a, b) for a in A for b in B]\n",
    "\n",
    "print(C)"
   ]
  },
  {
   "cell_type": "code",
   "execution_count": 10,
   "metadata": {},
   "outputs": [
    {
     "name": "stdout",
     "output_type": "stream",
     "text": [
      "[[  1   2   3   4   5   6   7   8   9  10  11  12  13  14  15]\n",
      " [  2   4   6   8  10  12  14  16  18  20  22  24  26  28  30]\n",
      " [  3   6   9  12  15  18  21  24  27  30  33  36  39  42  45]\n",
      " [  4   8  12  16  20  24  28  32  36  40  44  48  52  56  60]\n",
      " [  5  10  15  20  25  30  35  40  45  50  55  60  65  70  75]\n",
      " [  6  12  18  24  30  36  42  48  54  60  66  72  78  84  90]\n",
      " [  7  14  21  28  35  42  49  56  63  70  77  84  91  98 105]\n",
      " [  8  16  24  32  40  48  56  64  72  80  88  96 104 112 120]\n",
      " [  9  18  27  36  45  54  63  72  81  90  99 108 117 126 135]\n",
      " [ 10  20  30  40  50  60  70  80  90 100 110 120 130 140 150]\n",
      " [ 11  22  33  44  55  66  77  88  99 110 121 132 143 154 165]\n",
      " [ 12  24  36  48  60  72  84  96 108 120 132 144 156 168 180]\n",
      " [ 13  26  39  52  65  78  91 104 117 130 143 156 169 182 195]\n",
      " [ 14  28  42  56  70  84  98 112 126 140 154 168 182 196 210]\n",
      " [ 15  30  45  60  75  90 105 120 135 150 165 180 195 210 225]]\n"
     ]
    }
   ],
   "source": [
    "# Use the above example to create an N x N multiplication table\n",
    "N = 15\n",
    "M = [a*b for a in range(1, N+1) for b in range(1, N+1)]\n",
    "M = np.array(M).reshape(N, N)\n",
    "print(M)"
   ]
  },
  {
   "cell_type": "markdown",
   "metadata": {},
   "source": [
    "## Tuples are immutable (unlike lists)"
   ]
  },
  {
   "cell_type": "code",
   "execution_count": 11,
   "metadata": {},
   "outputs": [
    {
     "name": "stdout",
     "output_type": "stream",
     "text": [
      "[1, 2, 'hei']\n"
     ]
    }
   ],
   "source": [
    "# create a list (note the square brackets)\n",
    "A = [1, 2, 'hello']\n",
    "\n",
    "# Change one of the elements in the list\n",
    "A[2] = 'hei'\n",
    "\n",
    "print(A)"
   ]
  },
  {
   "cell_type": "code",
   "execution_count": 12,
   "metadata": {},
   "outputs": [
    {
     "ename": "TypeError",
     "evalue": "'tuple' object does not support item assignment",
     "output_type": "error",
     "traceback": [
      "\u001b[0;31m---------------------------------------------------------------------------\u001b[0m",
      "\u001b[0;31mTypeError\u001b[0m                                 Traceback (most recent call last)",
      "\u001b[0;32m<ipython-input-12-61b14d10dc35>\u001b[0m in \u001b[0;36m<module>\u001b[0;34m\u001b[0m\n\u001b[1;32m      2\u001b[0m \u001b[0;34m\u001b[0m\u001b[0m\n\u001b[1;32m      3\u001b[0m \u001b[0;31m# This line will give an error, because you cannot modify a tuple\u001b[0m\u001b[0;34m\u001b[0m\u001b[0;34m\u001b[0m\u001b[0;34m\u001b[0m\u001b[0m\n\u001b[0;32m----> 4\u001b[0;31m \u001b[0mA\u001b[0m\u001b[0;34m[\u001b[0m\u001b[0;36m2\u001b[0m\u001b[0;34m]\u001b[0m \u001b[0;34m=\u001b[0m \u001b[0;34m'hei'\u001b[0m\u001b[0;34m\u001b[0m\u001b[0;34m\u001b[0m\u001b[0m\n\u001b[0m",
      "\u001b[0;31mTypeError\u001b[0m: 'tuple' object does not support item assignment"
     ]
    }
   ],
   "source": [
    "A = (1, 2, 'hello')\n",
    "\n",
    "# This line will give an error, because you cannot modify a tuple\n",
    "A[2] = 'hei'"
   ]
  },
  {
   "cell_type": "code",
   "execution_count": 13,
   "metadata": {},
   "outputs": [
    {
     "data": {
      "text/plain": [
       "True"
      ]
     },
     "execution_count": 13,
     "metadata": {},
     "output_type": "execute_result"
    }
   ],
   "source": [
    "# Tuples are sorted by their first element.\n",
    "# Again using Exercise 1 as an example, that makes\n",
    "# tuples one way (of several) to store collisions\n",
    "# on the heap queue, as long as you put the time\n",
    "# at which the collision happens in the first element.\n",
    "collision1 = (0.01,  1, 4)\n",
    "collision2 = (0.003, 2, 3)\n",
    "\n",
    "collision2 < collision1"
   ]
  },
  {
   "cell_type": "code",
   "execution_count": 8,
   "metadata": {},
   "outputs": [
    {
     "data": {
      "text/plain": [
       "True"
      ]
     },
     "execution_count": 8,
     "metadata": {},
     "output_type": "execute_result"
    }
   ],
   "source": [
    "collision1 = [0.01,  1, 4]\n",
    "collision2 = [0.003, 2, 3]\n",
    "\n",
    "collision2 < collision1"
   ]
  },
  {
   "cell_type": "markdown",
   "metadata": {},
   "source": [
    "## Tuple unpacking"
   ]
  },
  {
   "cell_type": "code",
   "execution_count": 14,
   "metadata": {},
   "outputs": [
    {
     "name": "stdout",
     "output_type": "stream",
     "text": [
      "type(A) = <class 'tuple'>\n",
      "a = 1, b = 2, c = hello\n"
     ]
    }
   ],
   "source": [
    "# A tuple is a collection of objects\n",
    "A = (1, 2, 'hello')\n",
    "print(f'type(A) = {type(A)}')\n",
    "\n",
    "# A tuple can be unpacked:\n",
    "a, b, c = A\n",
    "print(f'a = {a}, b = {b}, c = {c}')"
   ]
  },
  {
   "cell_type": "code",
   "execution_count": 15,
   "metadata": {},
   "outputs": [
    {
     "name": "stdout",
     "output_type": "stream",
     "text": [
      "a = 3, b = 4, c = hey\n"
     ]
    }
   ],
   "source": [
    "# By the way, unpacking also works with lists\n",
    "A = [3, 4, 'hey']\n",
    "a, b, c = A\n",
    "print(f'a = {a}, b = {b}, c = {c}')"
   ]
  },
  {
   "cell_type": "code",
   "execution_count": 16,
   "metadata": {},
   "outputs": [
    {
     "name": "stdout",
     "output_type": "stream",
     "text": [
      "x = [0. 0. 0. 0. 0. 0. 0. 0. 0. 0.]\n",
      "y = [0. 0. 0. 0. 0. 0. 0. 0. 0. 0.]\n"
     ]
    }
   ],
   "source": [
    "# and with arrays (unpacks the first dimension first)\n",
    "# typical use case: Split a (2,N) array with x and y positions\n",
    "# into two separate vectors\n",
    "N = 10\n",
    "X = np.zeros((2, N))\n",
    "x, y = X\n",
    "print(f'x = {x}')\n",
    "print(f'y = {y}')"
   ]
  },
  {
   "cell_type": "code",
   "execution_count": 17,
   "metadata": {},
   "outputs": [
    {
     "name": "stdout",
     "output_type": "stream",
     "text": [
      "type(a) = <class 'tuple'>, a = (4, 9)\n",
      "x = 4, y = 9\n"
     ]
    }
   ],
   "source": [
    "# When a function returns more that one variable,\n",
    "# it returns a tuple, which can be unpacked\n",
    "def f(x, y):\n",
    "    return 2*x, y**2\n",
    "\n",
    "a = f(2,3)\n",
    "print(f'type(a) = {type(a)}, a = {a}')\n",
    "\n",
    "x, y = f(2, 3)\n",
    "print(f'x = {x}, y = {y}')"
   ]
  },
  {
   "cell_type": "code",
   "execution_count": 18,
   "metadata": {},
   "outputs": [
    {
     "data": {
      "text/plain": [
       "(4, 9)"
      ]
     },
     "execution_count": 18,
     "metadata": {},
     "output_type": "execute_result"
    }
   ],
   "source": [
    "# Tuple unpacking can also be used\n",
    "# when passing arguments to a function:\n",
    "\n",
    "def f(x, y):\n",
    "    return 2*x, y**2\n",
    "\n",
    "a = (2, 3)\n",
    "\n",
    "# *a unpacks the tuple, splitting it into two arguments\n",
    "f(*a)\n",
    "\n",
    "# Just calling f(a) will give an error,\n",
    "# because f expects two arguments, not one.\n",
    "#f(a)"
   ]
  },
  {
   "cell_type": "markdown",
   "metadata": {},
   "source": [
    "## enumerate\n",
    "A common use case is that you want to iterate through a list, and you want not only to access each element, but also it's index. There are many ways of doing this, but enumerate is a particularly elegant one (which makes use of tuple unpacking, see above)."
   ]
  },
  {
   "cell_type": "code",
   "execution_count": 19,
   "metadata": {},
   "outputs": [],
   "source": [
    "def get_result(dt):\n",
    "    # silly function just for example,\n",
    "    # for a real example see the convergence tests\n",
    "    # in notebooks 8 and 9\n",
    "    return dt**2\n",
    "\n",
    "# Let's say we want to do some calculation\n",
    "# with a range of timesteps, and store the results\n",
    "# in an array\n",
    "timesteps = np.array([1, 2, 5, 10, 20, 50, 100])\n",
    "results = np.zeros(len(timesteps))\n",
    "\n",
    "# Loop over timesteps, and use enumerate\n",
    "# to also get the index of each timestep.\n",
    "# This works because enumerate returns tuples\n",
    "# containing the index and the element.\n",
    "for i, dt in enumerate(timesteps):\n",
    "    results[i] = get_result(dt)\n",
    "    \n",
    "# An equivalent (but less pythonic) implementation:\n",
    "for i in range(len(timesteps)):\n",
    "    results[i] = get_result(timesteps[i])\n",
    "\n",
    "# Another equivalent (but even less pythonic) implementation:\n",
    "i = 0\n",
    "for dt in timesteps:\n",
    "    results[i] = get_result(dt)\n",
    "    i += 1"
   ]
  },
  {
   "cell_type": "code",
   "execution_count": null,
   "metadata": {},
   "outputs": [],
   "source": []
  },
  {
   "cell_type": "markdown",
   "metadata": {},
   "source": [
    "## zip\n",
    "\n",
    "zip can be useful when you want to combine elements from two lists into pairs, and operate on the pairs"
   ]
  },
  {
   "cell_type": "code",
   "execution_count": 20,
   "metadata": {},
   "outputs": [],
   "source": [
    "def get_result(dx, dt):\n",
    "    # Just a silly function for example\n",
    "    # In reality this might solve a PDE or something\n",
    "    return dx + dt\n",
    "\n",
    "# Let's say you want to change both\n",
    "# the timestep and the spatial resolution\n",
    "dt_list = [1, 2, 5, 10, 20, 50, 100]\n",
    "dx_list = [0.01, 0.02, 0.05, 0.1, 0.2, 0.5, 1]\n",
    "\n",
    "# Do calculation for each pair of parameters\n",
    "for dx, dt in zip(dx_list, dt_list):\n",
    "    get_result(dx, dt)\n",
    "    \n",
    "# This can also be combined with enumerate, as above,\n",
    "# but note that we need an extra paranthesis, since\n",
    "# enumerate here returns a two-element tuple where\n",
    "# the second element is itself a two-element tuple:\n",
    "# (i, (dx, dt))\n",
    "results = np.zeros(len(dt_list))\n",
    "for i, (dx, dt)  in enumerate(zip(dx_list, dt_list)):\n",
    "    results[i] = get_result(dx, dt)"
   ]
  },
  {
   "cell_type": "markdown",
   "metadata": {},
   "source": [
    "## Object orientation\n",
    "\n",
    "When used sparingly, a bit of object orientation can be quite convenient. However, be aware that performance may suffer. As always, avoid for-loops when possible. As an example, in exercise 1 (a gas of particles in a box) it could be ok to make an object for the box, but making an object for each particle would render the code hopelessly inefficient.\n",
    "\n",
    "When using object orientation, it can be very convenient to know about some special methods, such as ```__call__()``` or ```__lt__()``` that can make objects behave in useful ways. These methods are called double-underscore methods, or dunder methods for short."
   ]
  },
  {
   "cell_type": "markdown",
   "metadata": {},
   "source": [
    "### Callable objects\n",
    "\n",
    "If you define the method ```__call__()``` on a python object, it can be called like a function. This is one (of several) ways to construct a function that can remember an internal state. This can be convenient, but be aware that it can also make debugging more complicated, since the same function can do different things depending on it's internal state."
   ]
  },
  {
   "cell_type": "code",
   "execution_count": 9,
   "metadata": {},
   "outputs": [],
   "source": [
    "from scipy import interpolate"
   ]
  },
  {
   "cell_type": "code",
   "execution_count": 11,
   "metadata": {},
   "outputs": [
    {
     "data": {
      "text/plain": [
       "[<matplotlib.lines.Line2D at 0x7f80aabcf280>]"
      ]
     },
     "execution_count": 11,
     "metadata": {},
     "output_type": "execute_result"
    },
    {
     "data": {
      "image/png": "[encoded data removed]",
      "text/plain": [
       "<Figure size 432x288 with 1 Axes>"
      ]
     },
     "metadata": {
      "needs_background": "light"
     },
     "output_type": "display_data"
    }
   ],
   "source": [
    "x = np.linspace(0, 1, 10)\n",
    "y = np.linspace(0, 1, 10)**2\n",
    "\n",
    "f_interp = interpolate.UnivariateSpline(x, y)\n",
    "\n",
    "xc = np.linspace(0, 1, 1000)\n",
    "plt.plot(xc, f_interp(xc))"
   ]
  },
  {
   "cell_type": "code",
   "execution_count": 22,
   "metadata": {},
   "outputs": [],
   "source": [
    "# Create a simple object to do linear interpolation\n",
    "# between two points (x0, y0) and (x1, y1)\n",
    "\n",
    "class LinearInterpolator():\n",
    "    def __init__(self, x0, y0, x1, y1):\n",
    "        # Do a check to ensure x0 < x1,\n",
    "        # this will give an error otherwise\n",
    "        assert x0 < x1\n",
    "        self.x0 = x0\n",
    "        self.y0 = y0\n",
    "        self.x1 = x1\n",
    "        self.y1 = y1\n",
    "        self.dx = (self.x1 - self.x0)\n",
    "        self.dy = (self.y1 - self.y0)\n",
    "    \n",
    "    def __call__(self, x):\n",
    "        y = self.y0 + self.dy*(x - self.x0)/self.dx\n",
    "        return y\n",
    "    \n",
    "    def __repr__(self):\n",
    "        return f'My data is: {self.x0, self.x1, self.y0, self.y1}'"
   ]
  },
  {
   "cell_type": "code",
   "execution_count": 23,
   "metadata": {},
   "outputs": [
    {
     "data": {
      "text/plain": [
       "[<matplotlib.lines.Line2D at 0x7f80aad9d040>]"
      ]
     },
     "execution_count": 23,
     "metadata": {},
     "output_type": "execute_result"
    },
    {
     "data": {
      "image/png": "[encoded data removed]",
      "text/plain": [
       "<Figure size 432x288 with 1 Axes>"
      ]
     },
     "metadata": {
      "needs_background": "light"
     },
     "output_type": "display_data"
    }
   ],
   "source": [
    "x0, y0 = 0, 3\n",
    "x1, y1 = 2, 1\n",
    "\n",
    "# Create interpolator object\n",
    "F1 = LinearInterpolator(x0, y0, x1, y1)\n",
    "\n",
    "# Plot original datapoints as dots\n",
    "plt.scatter((x0, x1), (y0, y1))\n",
    "\n",
    "# Draw a straight line from the linear interpolation\n",
    "x = np.linspace(x0, x1, 100)\n",
    "y = F1(x) # here we call the object as if it was a function\n",
    "plt.plot(x, y)"
   ]
  },
  {
   "cell_type": "code",
   "execution_count": 24,
   "metadata": {},
   "outputs": [
    {
     "name": "stdout",
     "output_type": "stream",
     "text": [
      "My data is: (0, 2, 3, 1)\n"
     ]
    }
   ],
   "source": [
    "print(F1)"
   ]
  },
  {
   "cell_type": "code",
   "execution_count": 23,
   "metadata": {},
   "outputs": [],
   "source": [
    "# As another example, make an object that can\n",
    "# count function calls and measure time spent in a function,\n",
    "# by \"wrapping\" that function.\n",
    "\n",
    "class CounterAndTimer():\n",
    "    def __init__(self, function):\n",
    "        self.function = function\n",
    "        self.count = 0\n",
    "        self.time = 0\n",
    "    \n",
    "    def __call__(self, *args, **kwargs):\n",
    "        # the notation *args, **kwargs allows the function __call__\n",
    "        # to accept any number of arguments and keyword arguments,\n",
    "        # which can then be passed on to the function it wraps.\n",
    "        self.count += 1\n",
    "        tic = time()\n",
    "        return_value = self.function(*args, **kwargs)\n",
    "        toc = time()\n",
    "        self.time += (toc - tic)\n",
    "        return return_value\n",
    "    \n",
    "    def report(self):\n",
    "        print(f'The function {self.function} has been called {self.count} times. This has taken {self.time:.5f} seconds')"
   ]
  },
  {
   "cell_type": "code",
   "execution_count": 24,
   "metadata": {},
   "outputs": [],
   "source": [
    "from scipy.integrate import solve_ivp"
   ]
  },
  {
   "cell_type": "code",
   "execution_count": 25,
   "metadata": {},
   "outputs": [
    {
     "name": "stdout",
     "output_type": "stream",
     "text": [
      "The function <function f at 0x7f9cb3ba11f0> has been called 308 times. This has taken 0.00078 seconds\n"
     ]
    },
    {
     "data": {
      "image/png": "[encoded data removed]",
      "text/plain": [
       "<Figure size 432x288 with 1 Axes>"
      ]
     },
     "metadata": {
      "needs_background": "light"
     },
     "output_type": "display_data"
    }
   ],
   "source": [
    "# Make a function defining an ODE\n",
    "def f(t, X):\n",
    "    # This is the same equation as was used in the\n",
    "    # \"stiff\" example in notebook 09 on ODEs.\n",
    "    # Set alpha to a higher value (e.g. 1000, or 10000)\n",
    "    # To make the problem \"stiffer\"\n",
    "    alpha = 0.5\n",
    "    dX = np.zeros(2)\n",
    "    dX[0] = X[1]\n",
    "    dX[1] = alpha*(-X[0] - X[1])\n",
    "    return dX\n",
    "\n",
    "# \"Wrap\" this function with the object we defined\n",
    "f = CounterAndTimer(f)\n",
    "\n",
    "# Solve ode with solve_ivp from scipy\n",
    "# https://docs.scipy.org/doc/scipy/reference/generated/scipy.integrate.solve_ivp.html\n",
    "y0 = np.array([10.0, -10.0]) # Define initial conditions\n",
    "sol = solve_ivp(f, (0, 100), y0, dense_output = True) # Set up problem\n",
    "t = np.linspace(0, 100, 1001) # Time at which we want output\n",
    "x = sol.sol(t) # Compute output\n",
    "# Plot solution\n",
    "plt.plot(t, x[0,:], label = 'x(t)')\n",
    "plt.plot(t, x[1,:], label = 'v(t)')\n",
    "plt.legend()\n",
    "\n",
    "# Print results of counting and timing\n",
    "f.report()"
   ]
  },
  {
   "cell_type": "markdown",
   "metadata": {},
   "source": [
    "### Sortable objects\n",
    "\n",
    "Defining the function ```__lt__()``` on your object will make the object sortable by the built-in sort method in python. Again using exercise 1 as an example: In this exercise, we will calculate a number of collisions, which will occur at some future time, and we wish to sort them (or actually store them in a queue) according to that time. Implementing the method ```__lt__()``` allows this to happen seamlessly."
   ]
  },
  {
   "cell_type": "code",
   "execution_count": 26,
   "metadata": {},
   "outputs": [],
   "source": [
    "#object1 < object2\n",
    "# object1.__lt__(object2)"
   ]
  },
  {
   "cell_type": "code",
   "execution_count": 27,
   "metadata": {},
   "outputs": [],
   "source": [
    "class Collision():\n",
    "    # This is approximately how I chose to keep track\n",
    "    # of collisions in my implementation of exercise 1\n",
    "    \n",
    "    def __init__(self, time, i, j, Ni, Nj):\n",
    "        # Store time and the indices and collision counts\n",
    "        # of the particles involved in the collision\n",
    "        self.time = time\n",
    "        self.i = i\n",
    "        self.j = j\n",
    "        self.Ni = Ni\n",
    "        self.Nj = Nj\n",
    "        \n",
    "    def __lt__(self, other):\n",
    "        # Return true if this collision occurs earlier\n",
    "        # than the other collision it is compared to\n",
    "        return self.time < other.time\n",
    "    \n",
    "    def __repr__(self):\n",
    "        # Defining the __repr__() method to produce some useful info\n",
    "        # when the object is printed\n",
    "        return f'<Collision between {self.i} and {self.j} at time {self.time}>'"
   ]
  },
  {
   "cell_type": "code",
   "execution_count": 28,
   "metadata": {},
   "outputs": [
    {
     "name": "stdout",
     "output_type": "stream",
     "text": [
      "[<Collision between 0 and 1 at time 1>, <Collision between 0 and 1 at time 2>, <Collision between 0 and 1 at time 3>]\n"
     ]
    }
   ],
   "source": [
    "# make a list of three collisions\n",
    "collisions = [\n",
    "    Collision(1, 0, 1, 0, 0),\n",
    "    Collision(3, 0, 1, 0, 0),\n",
    "    Collision(2, 0, 1, 0, 0),\n",
    "]\n",
    "\n",
    "# Sort the list of collisions.\n",
    "# The built-in sort uses the < operator,\n",
    "# which in turn calls the __lt__() method.\n",
    "collisions.sort()\n",
    "\n",
    "# Print sorted list\n",
    "# Note that the printed output comes from __repr__()\n",
    "print(collisions)"
   ]
  },
  {
   "cell_type": "markdown",
   "metadata": {},
   "source": [
    "## Closures\n",
    "\n",
    "Another way of creating a function which can remember an internal state is to use \"closures\". This essentially involves writing a function that defines and returns another function. It can be convenient for some cases, like counting exectutions or timing, as we saw above. However, it is not at all transparent, so it can be a bit difficult to debug. Use with caution."
   ]
  },
  {
   "cell_type": "code",
   "execution_count": null,
   "metadata": {},
   "outputs": [],
   "source": [
    "# A simple example first, a function that adds\n",
    "# all the numbers we give to it\n",
    "\n",
    "def make_adder():\n",
    "    # In the outer scope, define a variable\n",
    "    # to keep track of the running total\n",
    "    total = 0\n",
    "    \n",
    "    # Then, define a function that will add to the total\n",
    "    def adder(x):\n",
    "        # use the keyword 'nonlocal' to get access to\n",
    "        # the variable defined in the outer scope\n",
    "        nonlocal total\n",
    "        total += x\n",
    "        return total\n",
    "    \n",
    "    # Finally, return the adder function\n",
    "    return adder\n",
    "\n",
    "adder = make_adder()\n",
    "\n",
    "print('type(adder) = ', type(adder))\n",
    "\n",
    "# Then, the function adder will keep adding,\n",
    "# and store the result in the now inaccessible variable total\n",
    "print(adder(2))\n",
    "print(adder(2))\n",
    "print(adder(2))"
   ]
  },
  {
   "cell_type": "code",
   "execution_count": 30,
   "metadata": {},
   "outputs": [
    {
     "data": {
      "text/plain": [
       "21"
      ]
     },
     "execution_count": 30,
     "metadata": {},
     "output_type": "execute_result"
    }
   ],
   "source": [
    "adder(3)"
   ]
  },
  {
   "cell_type": "code",
   "execution_count": 31,
   "metadata": {},
   "outputs": [
    {
     "name": "stdout",
     "output_type": "stream",
     "text": [
      "('total',)\n",
      "21\n"
     ]
    }
   ],
   "source": [
    "# Note that it is technically possible to access the variable directly,\n",
    "# but it's not exactly convenient. If you want direct access to the stored\n",
    "# variables, a classical object is the way to go.\n",
    "print(adder.__code__.co_freevars)\n",
    "print(adder.__closure__[0].cell_contents)"
   ]
  },
  {
   "cell_type": "code",
   "execution_count": 31,
   "metadata": {},
   "outputs": [],
   "source": [
    "# Time-and-counter example, as above,\n",
    "# but without defining a new class\n",
    "def make_timer_and_counter(function):\n",
    "    count = 0\n",
    "    total_time = 0\n",
    "    def timer_and_counter(*args, print_statistics = False, **kwargs):\n",
    "        # Use the keyword 'nonlocal' to get access\n",
    "        # to variables in the outer scope\n",
    "        nonlocal function, count, total_time\n",
    "        \n",
    "        # If print_statistics is True,\n",
    "        # print the accumulated count and time\n",
    "        if print_statistics:\n",
    "            print(f'The function {function} has been called {count} times. This has taken {total_time:.5f} seconds')\n",
    "        else:\n",
    "            # Run the wrapped function normally\n",
    "            count += 1\n",
    "            tic = time()\n",
    "            return_value = function(*args, **kwargs)\n",
    "            toc = time()\n",
    "            total_time += (toc - tic)\n",
    "            return return_value\n",
    "    return timer_and_counter"
   ]
  },
  {
   "cell_type": "code",
   "execution_count": 32,
   "metadata": {},
   "outputs": [
    {
     "name": "stdout",
     "output_type": "stream",
     "text": [
      "The function <function f at 0x7f9cb3c20940> has been called 308 times. This has taken 0.00081 seconds\n"
     ]
    },
    {
     "data": {
      "image/png": "[encoded data removed]",
      "text/plain": [
       "<Figure size 432x288 with 1 Axes>"
      ]
     },
     "metadata": {
      "needs_background": "light"
     },
     "output_type": "display_data"
    }
   ],
   "source": [
    "# Make a function defining an ODE\n",
    "def f(t, X):\n",
    "    # This is the same equation as was used in the\n",
    "    # \"stiff\" example in notebook 09 on ODEs.\n",
    "    # Set alpha to a higher value (e.g. 1000, or 10000)\n",
    "    # To make the problem \"stiffer\"\n",
    "    alpha = 0.5\n",
    "    dX = np.zeros(2)\n",
    "    dX[0] = X[1]\n",
    "    dX[1] = alpha*(-X[0] - X[1])\n",
    "    return dX\n",
    "\n",
    "# \"Wrap\" this function with the object we defined\n",
    "f = make_timer_and_counter(f)\n",
    "\n",
    "# Solve ode with solve_ivp from scipy\n",
    "# https://docs.scipy.org/doc/scipy/reference/generated/scipy.integrate.solve_ivp.html\n",
    "y0 = np.array([10.0, -10.0]) # Define initial conditions\n",
    "sol = solve_ivp(f, (0, 100), y0, dense_output = True) # Set up problem\n",
    "t = np.linspace(0, 100, 1001) # Time at which we want output\n",
    "x = sol.sol(t) # Compute output\n",
    "# Plot solution\n",
    "plt.plot(t, x[0,:], label = 'x(t)')\n",
    "plt.plot(t, x[1,:], label = 'v(t)')\n",
    "plt.legend()\n",
    "\n",
    "# Print results of counting and timing\n",
    "f(print_statistics = True)"
   ]
  },
  {
   "cell_type": "markdown",
   "metadata": {},
   "source": [
    "## Pandas\n",
    "\n",
    "Pandas is not a typical numerical library, but it is still extremely convenient for many things. It defines a concept called a DataFrame, which is essentially a table with named columns, and you can do different operations on the table. Here I just show a few simple examples."
   ]
  },
  {
   "cell_type": "code",
   "execution_count": 33,
   "metadata": {},
   "outputs": [],
   "source": [
    "# This requires that you have the pandas library installed\n",
    "import pandas as pd"
   ]
  },
  {
   "cell_type": "code",
   "execution_count": 34,
   "metadata": {},
   "outputs": [
    {
     "name": "stdout",
     "output_type": "stream",
     "text": [
      "    Timestep     Result         Error   Runtime\n",
      "0   0.000010  14.778112  6.826362e-11  2.889574\n",
      "1   0.000032  14.778112  3.671552e-11  0.874791\n",
      "2   0.000100  14.778112  2.936318e-12  0.272914\n",
      "3   0.000316  14.778112  3.385736e-12  0.087540\n",
      "4   0.001000  14.778112  1.390887e-12  0.027484\n",
      "5   0.003162  14.778112  2.422063e-11  0.008480\n",
      "6   0.010000  14.778112  2.442587e-09  0.002678\n",
      "7   0.031623  14.778112  2.389705e-07  0.000845\n",
      "8   0.100000  14.778090  2.266311e-05  0.000283\n",
      "9   0.316228  14.776314  1.798332e-03  0.000099\n",
      "10  1.000000  14.670139  1.079733e-01  0.000046\n"
     ]
    }
   ],
   "source": [
    "# Read a csv file (csv = comma-separated values)\n",
    "# into a DataFrame.\n",
    "df = pd.read_csv('../files/csv_example.txt', skipinitialspace = True)\n",
    "print(df)"
   ]
  },
  {
   "cell_type": "code",
   "execution_count": 35,
   "metadata": {},
   "outputs": [
    {
     "data": {
      "text/plain": [
       "<AxesSubplot:>"
      ]
     },
     "execution_count": 35,
     "metadata": {},
     "output_type": "execute_result"
    },
    {
     "data": {
      "image/png": "[encoded data removed]",
      "text/plain": [
       "<Figure size 432x288 with 1 Axes>"
      ]
     },
     "metadata": {
      "needs_background": "light"
     },
     "output_type": "display_data"
    }
   ],
   "source": [
    "# You can plot directly from the dataframe.\n",
    "# Plot all columns as a function of index\n",
    "df.plot()"
   ]
  },
  {
   "cell_type": "code",
   "execution_count": 36,
   "metadata": {},
   "outputs": [
    {
     "data": {
      "text/plain": [
       "<AxesSubplot:xlabel='Timestep'>"
      ]
     },
     "execution_count": 36,
     "metadata": {},
     "output_type": "execute_result"
    },
    {
     "data": {
      "image/png": "[encoded data removed]",
      "text/plain": [
       "<Figure size 432x288 with 1 Axes>"
      ]
     },
     "metadata": {
      "needs_background": "light"
     },
     "output_type": "display_data"
    }
   ],
   "source": [
    "# Plot all other columns as function of timestep,\n",
    "# and use log scale on both axes\n",
    "df.plot(x = 'Timestep', logx = True, logy = True)"
   ]
  },
  {
   "cell_type": "code",
   "execution_count": 37,
   "metadata": {},
   "outputs": [
    {
     "data": {
      "text/plain": [
       "<AxesSubplot:xlabel='Timestep'>"
      ]
     },
     "execution_count": 37,
     "metadata": {},
     "output_type": "execute_result"
    },
    {
     "data": {
      "image/png": "[encoded data removed]",
      "text/plain": [
       "<Figure size 432x288 with 1 Axes>"
      ]
     },
     "metadata": {
      "needs_background": "light"
     },
     "output_type": "display_data"
    }
   ],
   "source": [
    "# Plot all other columns as function of timestep,\n",
    "# and use log scale on both axes\n",
    "df.plot(x = 'Timestep', y = 'Runtime', logx = True, logy = True)"
   ]
  },
  {
   "cell_type": "markdown",
   "metadata": {},
   "source": [
    "## Logging\n",
    "\n",
    "It can be convenient, particularly for debugging larger codes, to have some kind of logging that outputs information about what the program does. Print statements can work fine, but using a dedicated logging library has some advantages:\n",
    "* Easy to turn output on and off\n",
    "* Log messages can have several levels of importance, and you can choose which ones to display\n",
    "* Easy to switch between writing to file and writing to terminal\n",
    "* Easy to get features like timestamps\n",
    "\n",
    "Check out documentation of the built-in logging features in python at https://docs.python.org/3/howto/logging.html#logging-basic-tutorial"
   ]
  },
  {
   "cell_type": "code",
   "execution_count": 38,
   "metadata": {},
   "outputs": [
    {
     "name": "stderr",
     "output_type": "stream",
     "text": [
      "INFO:root:This is the run function, starting simulation\n",
      "INFO:root:This is the run function, simulation finished\n"
     ]
    }
   ],
   "source": [
    "import logging\n",
    "logger = logging.getLogger()\n",
    "logger.setLevel(logging.INFO)\n",
    "\n",
    "def euler(X, t, h, f):\n",
    "    logging.debug(f'This is the euler function, arguments were X = {X}, t = {t}, h = {h}, f = {f}')\n",
    "    return X + h*f(X, t)\n",
    "\n",
    "def run(X, Tmax, h, f):\n",
    "    logging.info('This is the run function, starting simulation')\n",
    "    t = 0\n",
    "    while t < Tmax:\n",
    "        if t + h > Tmax:\n",
    "            logging.debug(f'This is the run function, t + h = {t + h} > Tmax = {Tmax}, adjusting timestep')\n",
    "            h = Tmax - t\n",
    "        X = euler(X, t, h, f)\n",
    "        t += h\n",
    "    logging.info('This is the run function, simulation finished')\n",
    "    return X\n",
    "\n",
    "def f(x, t):\n",
    "    return -x\n",
    "\n",
    "X0 = 10\n",
    "Tmax = 1.5\n",
    "h = 0.2\n",
    "X = run(X0, Tmax, h, f)"
   ]
  },
  {
   "cell_type": "markdown",
   "metadata": {},
   "source": [
    "## Progress bar\n",
    "\n",
    "A simple progress bar can be a very nice feature, which allows you to tell if your program is actually doing anything, or if it is stuck, and it can tell you the estimated remaining time.\n",
    "\n",
    "There are many different versions (and you can even write your own, if you want), but my current favourite is ```tqdm```:\n",
    "* It is extremely simple to use\n",
    "* It has very low overhead (i.e., it takes very little time to updated the progress bar)\n",
    "* It works both in notebooks and in scripts run from the command line"
   ]
  },
  {
   "cell_type": "code",
   "execution_count": 33,
   "metadata": {},
   "outputs": [
    {
     "data": {
      "application/vnd.jupyter.widget-view+json": {
       "model_id": "cacc2853e3234a7baf53f408de7b9390",
       "version_major": 2,
       "version_minor": 0
      },
      "text/plain": [
       "HBox(children=(HTML(value=''), FloatProgress(value=0.0, max=100000000.0), HTML(value='')))"
      ]
     },
     "metadata": {},
     "output_type": "display_data"
    },
    {
     "name": "stdout",
     "output_type": "stream",
     "text": [
      "\n"
     ]
    }
   ],
   "source": [
    "# Easiest way to use tqdm: Replace range with trange\n",
    "from tqdm.notebook import trange\n",
    "\n",
    "x = 0\n",
    "for i in trange(100000000):\n",
    "    x = x + i"
   ]
  },
  {
   "cell_type": "code",
   "execution_count": 40,
   "metadata": {},
   "outputs": [
    {
     "name": "stderr",
     "output_type": "stream",
     "text": [
      "100%|██████████| 1000000/1000000 [00:00<00:00, 3198199.26it/s]\n"
     ]
    }
   ],
   "source": [
    "# Next easiest way, when you want to iterate over a list (or array or tuple):\n",
    "# use tqdm to wrap the list\n",
    "from tqdm import tqdm\n",
    "\n",
    "# Create a list\n",
    "A = [i for i in range(1000000)]\n",
    "\n",
    "# iterate over wrapped list\n",
    "x = 0\n",
    "for a in tqdm(A):\n",
    "    x = x + a"
   ]
  },
  {
   "cell_type": "markdown",
   "metadata": {},
   "source": [
    "## Command line arguments\n",
    "\n",
    "It can be very convenient to have your program accept arguments from the command line, so you don't have to change the program in order to change, e.g., numerical parameters.\n",
    "\n",
    "It's hard to demonstrate command line arguments in a notebook, so see examples in ```../scripts/commandline_arguments.py```"
   ]
  },
  {
   "cell_type": "code",
   "execution_count": null,
   "metadata": {},
   "outputs": [],
   "source": []
  }
 ],
 "metadata": {
  "kernelspec": {
   "display_name": "Python 3",
   "language": "python",
   "name": "python3"
  },
  "language_info": {
   "codemirror_mode": {
    "name": "ipython",
    "version": 3
   },
   "file_extension": ".py",
   "mimetype": "text/x-python",
   "name": "python",
   "nbconvert_exporter": "python",
   "pygments_lexer": "ipython3",
   "version": "3.8.5"
  }
 },
 "nbformat": 4,
 "nbformat_minor": 4
}

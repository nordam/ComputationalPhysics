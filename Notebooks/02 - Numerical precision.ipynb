{
 "cells": [
  {
   "cell_type": "code",
   "execution_count": 1,
   "metadata": {},
   "outputs": [],
   "source": [
    "# Import numpy and matplotlib, and use jupyter magic to\n",
    "# get plots directly in notebook\n",
    "import numpy as np\n",
    "%matplotlib inline\n",
    "from matplotlib import pyplot as plt"
   ]
  },
  {
   "cell_type": "markdown",
   "metadata": {},
   "source": [
    "# Numerical precision\n",
    "\n",
    "On a computer, there is necessarily a limited amount of space available for storing numbers. The most common arrangement for storing real numbers is the IEEE 754 standard for floating point numbers: https://en.wikipedia.org/wiki/IEEE_754\n",
    "\n",
    "* **Single precision uses 4 bytes**, corresponding to approximately 7 decimal digits\n",
    "* **Double precision uses 8 bytes**, corresponding to approximately 16 decimal digits\n",
    "\n",
    "Floating point (often just called float) refers to the fact that decimal point is not in a fixed place, which means that the range of numbers that can be stored is far greater than 7 or 16 digits respectively.\n",
    "\n",
    "Below, we will see some examples of cases where the finite precision gives rise to behaviour that is perhaps unexpected."
   ]
  },
  {
   "cell_type": "markdown",
   "metadata": {},
   "source": [
    "## Huge and Tiny\n",
    "\n",
    "The largest number, and smallest positive (non-zero) number, that can be stored in floating point are sometimes called huge and tiny. These depend on the type of floating point number (single or double). Many (most?) languages have functions to find these values. Check the documentation for your language.\n",
    "\n",
    "In fortran, use the functions ``tiny(x)`` and ``huge(x)`` on a real of the desired type.\n",
    "\n",
    "In python these can be found from ``numpy.finfo`` (short for float info), see code below."
   ]
  },
  {
   "cell_type": "code",
   "execution_count": 2,
   "metadata": {},
   "outputs": [
    {
     "name": "stdout",
     "output_type": "stream",
     "text": [
      "Single precision:\n",
      "tiny:  1.1754944e-38\n",
      "huge:  3.4028235e+38\n",
      "\n",
      "Double precision:\n",
      "tiny:  2.2250738585072014e-308\n",
      "huge:  1.7976931348623157e+308\n"
     ]
    }
   ],
   "source": [
    "# Single precision: 4 byte (32 bit) float\n",
    "print('Single precision:')\n",
    "print('tiny: ', np.finfo(dtype = np.float32).tiny)\n",
    "print('huge: ', np.finfo(dtype = np.float32).max)\n",
    "print()\n",
    "\n",
    "# Double precision: 8 byte (64 bit) float\n",
    "print('Double precision:')\n",
    "print('tiny: ', np.finfo(dtype = np.float64).tiny)\n",
    "print('huge: ', np.finfo(dtype = np.float64).max)"
   ]
  },
  {
   "cell_type": "markdown",
   "metadata": {},
   "source": [
    "## Addition is not in general commutative on the computer\n",
    "\n",
    "Mathematically, we have that $a + b + c = c + b + a$. However, this does not always hold on the computer, due to finite precision.\n",
    "\n",
    "When you try to calculate for example $1 + 6\\times10^{-17} + 6\\times10^{-17}$, the result of the first addition is $1.00000000000000006$, which differs from 1 only in the 17th digit. So when you store the result of the calculation with only 16 digits, the difference is lost, and you get $1 + 6\\times10^{-17} = 1$. Then the same thing happens in the next addition.\n",
    "\n",
    "If instead you calculate $6\\times10^{-17} + 6\\times10^{-17} + 1$, then the result of the first addition is $1.2\\times10^{-16}$. When you add that to 1, the result is $1.00000000000000012$, which differs from 1 in the 16th digit, and thus is stored as a number different from 1.\n",
    "\n",
    "(Note that the numbers are in reality stored in binary format, and the mapping to decimal numbers isn't always obvious without working out the details. This is the reason the calculation below ends up with $1.0000000000000002$ instead of  $1.0000000000000001$, as you'd expect.)"
   ]
  },
  {
   "cell_type": "code",
   "execution_count": 3,
   "metadata": {},
   "outputs": [
    {
     "name": "stdout",
     "output_type": "stream",
     "text": [
      "6e-17 + 6e-17 + 1 =  1.0000000000000002\n",
      "1 + 6e-17 + 6e-17 =  1.0\n"
     ]
    }
   ],
   "source": [
    "# If we add two small numbers together, and then add 1,\n",
    "# the result is different from 1\n",
    "print('6e-17 + 6e-17 + 1 = ', 6e-17 + 6e-17 + 1)\n",
    "\n",
    "# If we start with 1, and add first one, then a second small number,\n",
    "# then the result is 1.\n",
    "# The reason is that the first sum differs from 1 only in\n",
    "# the 17th digit, which is not stored.\n",
    "print('1 + 6e-17 + 6e-17 = ', 1 + 6e-17 + 6e-17)"
   ]
  },
  {
   "cell_type": "markdown",
   "metadata": {},
   "source": [
    "## Machine epsilon\n",
    "\n",
    "The smallest number that you can add to 1, and have the result be different from 1, is called machine epsilon, or just epsilon. Many (most?) programming languages have functions to find this value for different types of numbers.\n",
    "\n",
    "In fortran, use the function ``epsilon(x)`` on a real ``x``, of the type (double or single) you wish to know about.\n",
    "\n",
    "In python this can be found from ``numpy.finfo`` (short for float info), see code below."
   ]
  },
  {
   "cell_type": "code",
   "execution_count": 4,
   "metadata": {},
   "outputs": [
    {
     "name": "stdout",
     "output_type": "stream",
     "text": [
      "Single precision:\n",
      "epsilon:  1.1920929e-07\n",
      "\n",
      "Double precision:\n",
      "epsilon:  2.220446049250313e-16\n"
     ]
    }
   ],
   "source": [
    "# Single precision: 4 byte (32 bit) float\n",
    "print('Single precision:')\n",
    "print('epsilon: ', np.finfo(dtype = np.float32).eps)\n",
    "print()\n",
    "\n",
    "# Double precision: 8 byte (64 bit) float\n",
    "print('Double precision:')\n",
    "print('epsilon: ', np.finfo(dtype = np.float64).eps)"
   ]
  },
  {
   "cell_type": "markdown",
   "metadata": {},
   "source": [
    "## An example: Harmonic numbers\n",
    "\n",
    "Harmonic numbers are given by\n",
    "\n",
    "$$ H_n = \\sum_{k=1}^n \\frac{1}{k} $$"
   ]
  },
  {
   "cell_type": "code",
   "execution_count": 5,
   "metadata": {},
   "outputs": [],
   "source": [
    "# Calculate the harmonic number Hn, by doing the\n",
    "# sum from the largest number to the smallest\n",
    "def forward(n, dtype = np.float32):\n",
    "    # This bit creates a variable Hn, of the\n",
    "    # desired precision (single or double)\n",
    "    Hn = dtype(0)\n",
    "    \n",
    "    # Loop from largest to smallest\n",
    "    for i in range(1, n+1):\n",
    "        # This makes sure that the number we add is of the same\n",
    "        # datatype (single or double) as Hn\n",
    "        Hn += dtype(1/i)\n",
    "    return Hn\n",
    "\n",
    "# Calculate the harmonic number Hn, by doing the\n",
    "# sum in reverse order from the smallest to the largest number\n",
    "def backward(n, dtype = np.float32):\n",
    "    # This bit creates a variable Hn, of the\n",
    "    # desired precision (single or double)\n",
    "    Hn = dtype(0)\n",
    "    \n",
    "    # Loop from smallest to largest, stepping backwards\n",
    "    for i in range(n, 0, -1):\n",
    "        # This makes sure that the number we add is of the same\n",
    "        # datatype (single or double) as Hn\n",
    "        Hn += dtype(1/i)\n",
    "    return Hn"
   ]
  },
  {
   "cell_type": "code",
   "execution_count": 6,
   "metadata": {},
   "outputs": [
    {
     "name": "stdout",
     "output_type": "stream",
     "text": [
      "Single precision:\n",
      "Forward sum:  15.4036827\n",
      "Backward sum: 16.0078545\n",
      "\n",
      "Double precision:\n",
      "Forward sum:  16.0021642352985936\n",
      "Backward sum: 16.0021642353000502\n"
     ]
    }
   ],
   "source": [
    "# Find the Nth harmonic number\n",
    "N = 5000000\n",
    "\n",
    "# Here we use single precision.\n",
    "# Calculate Hn in both ways, and print answer with 7 decimals.\n",
    "print('Single precision:')\n",
    "print('Forward sum:  %.7f' % forward(N))\n",
    "print('Backward sum: %.7f' % backward(N))\n",
    "print()\n",
    "\n",
    "# Here we use double precision.\n",
    "# Calculate Hn in both ways, and print answer with 16 decimals.\n",
    "print('Double precision:')\n",
    "print('Forward sum:  %.16f' % forward(N, dtype = np.float64))\n",
    "print('Backward sum: %.16f' % backward(N, dtype = np.float64))"
   ]
  },
  {
   "cell_type": "markdown",
   "metadata": {},
   "source": [
    "## Another example: Series approximation of the exponential function\n",
    "\n",
    "One definition of the exponential function, $\\mathrm{e}^{x}$ is by the infinite series\n",
    "\n",
    "$$ \\mathrm{e}^x = \\sum_{n=0}^\\infty \\frac{x^n}{n!}. $$\n",
    "\n",
    "Note that while this a definition of $\\mathrm{e}^{x}$, and therefore exact, we can use it as an approximation by truncating the sum at some finite value. We will see some example where this works well, and not so well."
   ]
  },
  {
   "cell_type": "code",
   "execution_count": 7,
   "metadata": {},
   "outputs": [],
   "source": [
    "# Implementing a function to calculate exp(x) as a series,\n",
    "# including only the first n terms, using either single or double precision.\n",
    "\n",
    "def exp(x, n = 10, dtype = np.float32):\n",
    "    # This bit creates a variable called result, of the\n",
    "    # desired precision (single or double)\n",
    "    result = dtype(0)\n",
    "    for i in range(n):\n",
    "        result += dtype(x**i / np.math.factorial(i))\n",
    "    return result"
   ]
  },
  {
   "cell_type": "code",
   "execution_count": 8,
   "metadata": {},
   "outputs": [
    {
     "name": "stdout",
     "output_type": "stream",
     "text": [
      "Single precision\n",
      "exp(15.00)\n",
      "Series:  3269017.5000000000\n",
      "Numpy:   3269017.3724721107\n",
      "\n",
      "exp(-15.00)\n",
      "Series:  -0.0179761108\n",
      "Numpy:   0.0000003059\n"
     ]
    }
   ],
   "source": [
    "# Comparing to exponential function from numpy, np.exp\n",
    "# Note the large difference in precision between positive and negative numbers\n",
    "print('Single precision')\n",
    "x = 15\n",
    "print('exp(%.2f)' % x)\n",
    "print('Series: ', '%.10f' % exp(x, n = 400))\n",
    "print('Numpy:  ', '%.10f' % np.exp(x))\n",
    "print()\n",
    "print('exp(%.2f)' % -x)\n",
    "print('Series: ', '%.10f' % exp(-x, n = 400))\n",
    "print('Numpy:  ', '%.10f' % np.exp(-x))"
   ]
  },
  {
   "cell_type": "code",
   "execution_count": 9,
   "metadata": {},
   "outputs": [
    {
     "name": "stdout",
     "output_type": "stream",
     "text": [
      "Double precision\n",
      "exp(15.00)\n",
      "Series:  3269017.3724721107\n",
      "Numpy:   3269017.3724721107\n",
      "\n",
      "exp(-15.00)\n",
      "Series:  0.0000003059\n",
      "Numpy:   0.0000003059\n"
     ]
    }
   ],
   "source": [
    "# Comparing to exponential function from numpy, np.exp\n",
    "# Note the large difference in precision between positive and negative numbers\n",
    "print('Double precision')\n",
    "x = 15\n",
    "print('exp(%.2f)' % x)\n",
    "print('Series: ', '%.10f' % exp(x, n = 400, dtype = np.float64))\n",
    "print('Numpy:  ', '%.10f' % np.exp(x))\n",
    "print()\n",
    "print('exp(%.2f)' % -x)\n",
    "print('Series: ', '%.10f' % exp(-x, n = 400, dtype = np.float64))\n",
    "print('Numpy:  ', '%.10f' % np.exp(-x))"
   ]
  },
  {
   "cell_type": "code",
   "execution_count": 10,
   "metadata": {},
   "outputs": [
    {
     "data": {
      "text/plain": [
       "Text(0.5, 1.0, 'Negative x')"
      ]
     },
     "execution_count": 10,
     "metadata": {},
     "output_type": "execute_result"
    },
    {
     "data": {
      "image/png": "[encoded data removed]",
      "text/plain": [
       "<Figure size 1152x432 with 2 Axes>"
      ]
     },
     "metadata": {
      "needs_background": "light"
     },
     "output_type": "display_data"
    }
   ],
   "source": [
    "# Two plots to illustrate what's happening:\n",
    "\n",
    "# Make a figure with two subplots, side by side.\n",
    "fig, axes = plt.subplots(nrows = 1, ncols = 2, figsize = (16, 6))\n",
    "\n",
    "# When x is positive, we calculate a large number (exp(x)), by\n",
    "# adding large positive numbers, and the loss of precision is modest.\n",
    "x =  15\n",
    "N =  40\n",
    "\n",
    "# Calculate the terms\n",
    "ints  = np.arange(N)\n",
    "terms = np.zeros(N)\n",
    "for i in ints:\n",
    "    terms[i] = x**i / np.math.factorial(i)\n",
    "\n",
    "# Plot terms, set limits, add title and remove top and right axis\n",
    "axes[0].plot(ints, terms, marker = 'o', linewidth = 0.5, alpha = 0.5)\n",
    "axes[0].set_ylim((-1.1*max(terms), 1.1*max(terms)))\n",
    "axes[0].set_title('Positive x')\n",
    "\n",
    "# When x is negative, we calculate a small number (exp(x)), by\n",
    "# adding alternating large positive and large negative numbers,\n",
    "# which leads to a catastrophic loss of precision.\n",
    "x =  -15\n",
    "\n",
    "# Calculate the terms\n",
    "ints  = np.arange(N)\n",
    "terms = np.zeros(N)\n",
    "for i in ints:\n",
    "    terms[i] = x**i / np.math.factorial(i)\n",
    "    \n",
    "# Plot terms, set limits, add title and remove top and right axis\n",
    "axes[1].plot(ints, terms, marker = 'o', linewidth = 0.5, alpha = 0.5)\n",
    "axes[1].set_ylim(axes[0].get_ylim())\n",
    "axes[1].set_title('Negative x')\n"
   ]
  },
  {
   "cell_type": "markdown",
   "metadata": {},
   "source": [
    "## Examples: trigonometric functions\n",
    "\n",
    "Because of finite precision, known values such as $\\cos(\\pi/2) = 0$ are not always exactly correct.\n",
    "\n",
    "Identities such as\n",
    "\n",
    "$$ \\frac{1 - \\cos(x)}{\\sin(x)} = \\frac{\\sin(x)}{1 + \\cos(x)}$$\n",
    "\n",
    "are not always identical."
   ]
  },
  {
   "cell_type": "code",
   "execution_count": 11,
   "metadata": {},
   "outputs": [
    {
     "name": "stdout",
     "output_type": "stream",
     "text": [
      "-43.71139123810498\n"
     ]
    }
   ],
   "source": [
    "# Result should be 0, because cos(pi/2) = 0\n",
    "x = np.float32(1e-9)\n",
    "pi = np.float32(np.pi)\n",
    "\n",
    "print(np.cos(pi/2) / x)"
   ]
  },
  {
   "cell_type": "code",
   "execution_count": 12,
   "metadata": {},
   "outputs": [
    {
     "name": "stdout",
     "output_type": "stream",
     "text": [
      "0.0\n",
      "4.999999873689376e-05\n"
     ]
    }
   ],
   "source": [
    "# The two results should be the same\n",
    "x = np.float32(1e-4)\n",
    "print((1 - np.cos(x)) / np.sin(x))\n",
    "print(np.sin(x) / (1 + np.cos(x)))"
   ]
  },
  {
   "cell_type": "code",
   "execution_count": 13,
   "metadata": {},
   "outputs": [
    {
     "name": "stdout",
     "output_type": "stream",
     "text": [
      "4.999999977945978e-05\n",
      "5.000000004166667e-05\n"
     ]
    }
   ],
   "source": [
    "# In double precision, they are closer\n",
    "x = np.float64(1e-4)\n",
    "print((1 - np.cos(x)) / np.sin(x))\n",
    "print(np.sin(x) / (1 + np.cos(x)))"
   ]
  },
  {
   "cell_type": "markdown",
   "metadata": {},
   "source": [
    "## Examples: Integers"
   ]
  },
  {
   "cell_type": "code",
   "execution_count": 14,
   "metadata": {},
   "outputs": [
    {
     "name": "stdout",
     "output_type": "stream",
     "text": [
      "98712307124870124098120398125124098\n"
     ]
    }
   ],
   "source": [
    "# Pure python can use arbitrarily long integers\n",
    "i = 98712307124870124098120398125124098\n",
    "\n",
    "print(i)"
   ]
  },
  {
   "cell_type": "code",
   "execution_count": 15,
   "metadata": {},
   "outputs": [
    {
     "name": "stdout",
     "output_type": "stream",
     "text": [
      "12655723162254307425418678245150829297671403862274660768187828858528140823147351237817802795619571074765208532598060224803240903782164769430795025578054271906283387643826088448124626488332623608376164081221171179439885840257818732919037889603719186743943363062139593784473922231852782547619771723889252476871186000174697934549112845662596182308280390615184691924446215552586523740084932807259056238962104689731522587564412231618018774350801526839567367444928206231310973619440354723718012867753019556135721376207959558860559933052856914157184657502903793787174943896859930602704143860011009684328242647873460297410129839094095952331472209124477569699198874477456068830468599604827201218920838515675989719751330864522194785845015902281245234997811782418650883192310813894732809887355200909764592063177665302771857463943330908416333283987891296388761579196428639305343869327204923827674798498844698486964259294649438855978102128860947345024472377264089726530340214816013491981404505949168247942347685390468941277030429390185101836135402250988703891075507501029236825277145732185836213567804591070554225687549015840965521413669441594678477978148556114329179295111412522121107266182991376463189343632948715499348856428919900711257326168545495296967117264097286302982675900061399560145595206127211192918105032491008000000000000000000000000000000000000000000000000000000000000000000000000000000000000000000000000000\n"
     ]
    }
   ],
   "source": [
    "# Pure python can use arbitrarily long integers\n",
    "i = np.math.factorial(400) + np.math.factorial(600)\n",
    "\n",
    "print(i)"
   ]
  },
  {
   "cell_type": "code",
   "execution_count": 16,
   "metadata": {},
   "outputs": [
    {
     "ename": "OverflowError",
     "evalue": "Python int too large to convert to C long",
     "output_type": "error",
     "traceback": [
      "\u001b[0;31m---------------------------------------------------------------------------\u001b[0m",
      "\u001b[0;31mOverflowError\u001b[0m                             Traceback (most recent call last)",
      "\u001b[0;32m<ipython-input-16-5d96410af3a5>\u001b[0m in \u001b[0;36m<module>\u001b[0;34m\u001b[0m\n\u001b[1;32m      1\u001b[0m \u001b[0;31m# Numpy also has datatypes for 32bit and 64bit integers\u001b[0m\u001b[0;34m\u001b[0m\u001b[0;34m\u001b[0m\u001b[0;34m\u001b[0m\u001b[0m\n\u001b[1;32m      2\u001b[0m \u001b[0;31m# These cannot store very large numbers\u001b[0m\u001b[0;34m\u001b[0m\u001b[0;34m\u001b[0m\u001b[0;34m\u001b[0m\u001b[0m\n\u001b[0;32m----> 3\u001b[0;31m \u001b[0mnp\u001b[0m\u001b[0;34m.\u001b[0m\u001b[0mint64\u001b[0m\u001b[0;34m(\u001b[0m\u001b[0mnp\u001b[0m\u001b[0;34m.\u001b[0m\u001b[0mmath\u001b[0m\u001b[0;34m.\u001b[0m\u001b[0mfactorial\u001b[0m\u001b[0;34m(\u001b[0m\u001b[0;36m100\u001b[0m\u001b[0;34m)\u001b[0m\u001b[0;34m)\u001b[0m\u001b[0;34m\u001b[0m\u001b[0;34m\u001b[0m\u001b[0m\n\u001b[0m",
      "\u001b[0;31mOverflowError\u001b[0m: Python int too large to convert to C long"
     ]
    }
   ],
   "source": [
    "# Numpy also has datatypes for 32bit and 64bit integers\n",
    "# These cannot store very large numbers\n",
    "np.int64(np.math.factorial(100))"
   ]
  },
  {
   "cell_type": "code",
   "execution_count": 17,
   "metadata": {},
   "outputs": [
    {
     "name": "stdout",
     "output_type": "stream",
     "text": [
      "9223372036854775807\n",
      "-9223372036854775808\n"
     ]
    },
    {
     "name": "stderr",
     "output_type": "stream",
     "text": [
      "<ipython-input-17-8015f48efc24>:6: RuntimeWarning: overflow encountered in long_scalars\n",
      "  print(i+1)\n"
     ]
    }
   ],
   "source": [
    "# Find the largest possible int64\n",
    "i = np.int64(np.iinfo(64).max)\n",
    "print(i)\n",
    "\n",
    "# Add 1, and print the result\n",
    "# Note the warning about overflow, causing the result to \"roll over\" and become negative\n",
    "print(i+1)"
   ]
  },
  {
   "cell_type": "code",
   "execution_count": 18,
   "metadata": {},
   "outputs": [
    {
     "data": {
      "text/plain": [
       "int"
      ]
     },
     "execution_count": 18,
     "metadata": {},
     "output_type": "execute_result"
    }
   ],
   "source": [
    "# You can use the built-in function type() to\n",
    "# inspect the type of variables.\n",
    "\n",
    "i = 912840981409830495802397492837498752342\n",
    "\n",
    "type(i)"
   ]
  },
  {
   "cell_type": "code",
   "execution_count": 19,
   "metadata": {},
   "outputs": [
    {
     "data": {
      "text/plain": [
       "numpy.int64"
      ]
     },
     "execution_count": 19,
     "metadata": {},
     "output_type": "execute_result"
    }
   ],
   "source": [
    "k = np.int64(np.math.factorial(20))\n",
    "\n",
    "type(k)"
   ]
  }
 ],
 "metadata": {
  "kernelspec": {
   "display_name": "Python 3",
   "language": "python",
   "name": "python3"
  },
  "language_info": {
   "codemirror_mode": {
    "name": "ipython",
    "version": 3
   },
   "file_extension": ".py",
   "mimetype": "text/x-python",
   "name": "python",
   "nbconvert_exporter": "python",
   "pygments_lexer": "ipython3",
   "version": "3.8.5"
  }
 },
 "nbformat": 4,
 "nbformat_minor": 1
}

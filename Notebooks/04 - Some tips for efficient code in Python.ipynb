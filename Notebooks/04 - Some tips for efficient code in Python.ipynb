{
 "cells": [
  {
   "cell_type": "code",
   "execution_count": 1,
   "metadata": {},
   "outputs": [],
   "source": [
    "# Import numpy and matplotlib, and use jupyter magic to\n",
    "# get plots directly in notebook\n",
    "import numpy as np\n",
    "%matplotlib inline\n",
    "from matplotlib import pyplot as plt\n",
    "from random import randint\n",
    "\n",
    "# load the time function to measure time\n",
    "from time import time"
   ]
  },
  {
   "cell_type": "code",
   "execution_count": 21,
   "metadata": {},
   "outputs": [
    {
     "ename": "AttributeError",
     "evalue": "'range' object has no attribute 'sum'",
     "output_type": "error",
     "traceback": [
      "\u001b[0;31m---------------------------------------------------------------------------\u001b[0m",
      "\u001b[0;31mAttributeError\u001b[0m                            Traceback (most recent call last)",
      "\u001b[0;32m<ipython-input-21-0699f965fd95>\u001b[0m in \u001b[0;36m<module>\u001b[0;34m\u001b[0m\n\u001b[0;32m----> 1\u001b[0;31m \u001b[0mget_ipython\u001b[0m\u001b[0;34m(\u001b[0m\u001b[0;34m)\u001b[0m\u001b[0;34m.\u001b[0m\u001b[0mrun_line_magic\u001b[0m\u001b[0;34m(\u001b[0m\u001b[0;34m'timeit'\u001b[0m\u001b[0;34m,\u001b[0m \u001b[0;34m'range(1000000).sum()'\u001b[0m\u001b[0;34m)\u001b[0m\u001b[0;34m\u001b[0m\u001b[0;34m\u001b[0m\u001b[0m\n\u001b[0m",
      "\u001b[0;32m~/anaconda3/lib/python3.8/site-packages/IPython/core/interactiveshell.py\u001b[0m in \u001b[0;36mrun_line_magic\u001b[0;34m(self, magic_name, line, _stack_depth)\u001b[0m\n\u001b[1;32m   2325\u001b[0m                 \u001b[0mkwargs\u001b[0m\u001b[0;34m[\u001b[0m\u001b[0;34m'local_ns'\u001b[0m\u001b[0;34m]\u001b[0m \u001b[0;34m=\u001b[0m \u001b[0mself\u001b[0m\u001b[0;34m.\u001b[0m\u001b[0mget_local_scope\u001b[0m\u001b[0;34m(\u001b[0m\u001b[0mstack_depth\u001b[0m\u001b[0;34m)\u001b[0m\u001b[0;34m\u001b[0m\u001b[0;34m\u001b[0m\u001b[0m\n\u001b[1;32m   2326\u001b[0m             \u001b[0;32mwith\u001b[0m \u001b[0mself\u001b[0m\u001b[0;34m.\u001b[0m\u001b[0mbuiltin_trap\u001b[0m\u001b[0;34m:\u001b[0m\u001b[0;34m\u001b[0m\u001b[0;34m\u001b[0m\u001b[0m\n\u001b[0;32m-> 2327\u001b[0;31m                 \u001b[0mresult\u001b[0m \u001b[0;34m=\u001b[0m \u001b[0mfn\u001b[0m\u001b[0;34m(\u001b[0m\u001b[0;34m*\u001b[0m\u001b[0margs\u001b[0m\u001b[0;34m,\u001b[0m \u001b[0;34m**\u001b[0m\u001b[0mkwargs\u001b[0m\u001b[0;34m)\u001b[0m\u001b[0;34m\u001b[0m\u001b[0;34m\u001b[0m\u001b[0m\n\u001b[0m\u001b[1;32m   2328\u001b[0m             \u001b[0;32mreturn\u001b[0m \u001b[0mresult\u001b[0m\u001b[0;34m\u001b[0m\u001b[0;34m\u001b[0m\u001b[0m\n\u001b[1;32m   2329\u001b[0m \u001b[0;34m\u001b[0m\u001b[0m\n",
      "\u001b[0;32m<decorator-gen-53>\u001b[0m in \u001b[0;36mtimeit\u001b[0;34m(self, line, cell, local_ns)\u001b[0m\n",
      "\u001b[0;32m~/anaconda3/lib/python3.8/site-packages/IPython/core/magic.py\u001b[0m in \u001b[0;36m<lambda>\u001b[0;34m(f, *a, **k)\u001b[0m\n\u001b[1;32m    185\u001b[0m     \u001b[0;31m# but it's overkill for just that one bit of state.\u001b[0m\u001b[0;34m\u001b[0m\u001b[0;34m\u001b[0m\u001b[0;34m\u001b[0m\u001b[0m\n\u001b[1;32m    186\u001b[0m     \u001b[0;32mdef\u001b[0m \u001b[0mmagic_deco\u001b[0m\u001b[0;34m(\u001b[0m\u001b[0marg\u001b[0m\u001b[0;34m)\u001b[0m\u001b[0;34m:\u001b[0m\u001b[0;34m\u001b[0m\u001b[0;34m\u001b[0m\u001b[0m\n\u001b[0;32m--> 187\u001b[0;31m         \u001b[0mcall\u001b[0m \u001b[0;34m=\u001b[0m \u001b[0;32mlambda\u001b[0m \u001b[0mf\u001b[0m\u001b[0;34m,\u001b[0m \u001b[0;34m*\u001b[0m\u001b[0ma\u001b[0m\u001b[0;34m,\u001b[0m \u001b[0;34m**\u001b[0m\u001b[0mk\u001b[0m\u001b[0;34m:\u001b[0m \u001b[0mf\u001b[0m\u001b[0;34m(\u001b[0m\u001b[0;34m*\u001b[0m\u001b[0ma\u001b[0m\u001b[0;34m,\u001b[0m \u001b[0;34m**\u001b[0m\u001b[0mk\u001b[0m\u001b[0;34m)\u001b[0m\u001b[0;34m\u001b[0m\u001b[0;34m\u001b[0m\u001b[0m\n\u001b[0m\u001b[1;32m    188\u001b[0m \u001b[0;34m\u001b[0m\u001b[0m\n\u001b[1;32m    189\u001b[0m         \u001b[0;32mif\u001b[0m \u001b[0mcallable\u001b[0m\u001b[0;34m(\u001b[0m\u001b[0marg\u001b[0m\u001b[0;34m)\u001b[0m\u001b[0;34m:\u001b[0m\u001b[0;34m\u001b[0m\u001b[0;34m\u001b[0m\u001b[0m\n",
      "\u001b[0;32m~/anaconda3/lib/python3.8/site-packages/IPython/core/magics/execution.py\u001b[0m in \u001b[0;36mtimeit\u001b[0;34m(self, line, cell, local_ns)\u001b[0m\n\u001b[1;32m   1167\u001b[0m             \u001b[0;32mfor\u001b[0m \u001b[0mindex\u001b[0m \u001b[0;32min\u001b[0m \u001b[0mrange\u001b[0m\u001b[0;34m(\u001b[0m\u001b[0;36m0\u001b[0m\u001b[0;34m,\u001b[0m \u001b[0;36m10\u001b[0m\u001b[0;34m)\u001b[0m\u001b[0;34m:\u001b[0m\u001b[0;34m\u001b[0m\u001b[0;34m\u001b[0m\u001b[0m\n\u001b[1;32m   1168\u001b[0m                 \u001b[0mnumber\u001b[0m \u001b[0;34m=\u001b[0m \u001b[0;36m10\u001b[0m \u001b[0;34m**\u001b[0m \u001b[0mindex\u001b[0m\u001b[0;34m\u001b[0m\u001b[0;34m\u001b[0m\u001b[0m\n\u001b[0;32m-> 1169\u001b[0;31m                 \u001b[0mtime_number\u001b[0m \u001b[0;34m=\u001b[0m \u001b[0mtimer\u001b[0m\u001b[0;34m.\u001b[0m\u001b[0mtimeit\u001b[0m\u001b[0;34m(\u001b[0m\u001b[0mnumber\u001b[0m\u001b[0;34m)\u001b[0m\u001b[0;34m\u001b[0m\u001b[0;34m\u001b[0m\u001b[0m\n\u001b[0m\u001b[1;32m   1170\u001b[0m                 \u001b[0;32mif\u001b[0m \u001b[0mtime_number\u001b[0m \u001b[0;34m>=\u001b[0m \u001b[0;36m0.2\u001b[0m\u001b[0;34m:\u001b[0m\u001b[0;34m\u001b[0m\u001b[0;34m\u001b[0m\u001b[0m\n\u001b[1;32m   1171\u001b[0m                     \u001b[0;32mbreak\u001b[0m\u001b[0;34m\u001b[0m\u001b[0;34m\u001b[0m\u001b[0m\n",
      "\u001b[0;32m~/anaconda3/lib/python3.8/site-packages/IPython/core/magics/execution.py\u001b[0m in \u001b[0;36mtimeit\u001b[0;34m(self, number)\u001b[0m\n\u001b[1;32m    167\u001b[0m         \u001b[0mgc\u001b[0m\u001b[0;34m.\u001b[0m\u001b[0mdisable\u001b[0m\u001b[0;34m(\u001b[0m\u001b[0;34m)\u001b[0m\u001b[0;34m\u001b[0m\u001b[0;34m\u001b[0m\u001b[0m\n\u001b[1;32m    168\u001b[0m         \u001b[0;32mtry\u001b[0m\u001b[0;34m:\u001b[0m\u001b[0;34m\u001b[0m\u001b[0;34m\u001b[0m\u001b[0m\n\u001b[0;32m--> 169\u001b[0;31m             \u001b[0mtiming\u001b[0m \u001b[0;34m=\u001b[0m \u001b[0mself\u001b[0m\u001b[0;34m.\u001b[0m\u001b[0minner\u001b[0m\u001b[0;34m(\u001b[0m\u001b[0mit\u001b[0m\u001b[0;34m,\u001b[0m \u001b[0mself\u001b[0m\u001b[0;34m.\u001b[0m\u001b[0mtimer\u001b[0m\u001b[0;34m)\u001b[0m\u001b[0;34m\u001b[0m\u001b[0;34m\u001b[0m\u001b[0m\n\u001b[0m\u001b[1;32m    170\u001b[0m         \u001b[0;32mfinally\u001b[0m\u001b[0;34m:\u001b[0m\u001b[0;34m\u001b[0m\u001b[0;34m\u001b[0m\u001b[0m\n\u001b[1;32m    171\u001b[0m             \u001b[0;32mif\u001b[0m \u001b[0mgcold\u001b[0m\u001b[0;34m:\u001b[0m\u001b[0;34m\u001b[0m\u001b[0;34m\u001b[0m\u001b[0m\n",
      "\u001b[0;32m<magic-timeit>\u001b[0m in \u001b[0;36minner\u001b[0;34m(_it, _timer)\u001b[0m\n",
      "\u001b[0;31mAttributeError\u001b[0m: 'range' object has no attribute 'sum'"
     ]
    }
   ],
   "source": []
  },
  {
   "cell_type": "markdown",
   "metadata": {},
   "source": [
    "# Measuring time"
   ]
  },
  {
   "cell_type": "code",
   "execution_count": null,
   "metadata": {},
   "outputs": [],
   "source": [
    "# The function time.time() gives the number of seconds since\n",
    "# 1.1.1970 (also known as \"unix time\"). The difference\n",
    "# between repeated calls can be used to measure time.\n",
    "\n",
    "print('The current unix time is: ', time())\n",
    "\n",
    "tic = time()\n",
    "print('Hello!')\n",
    "toc = time()\n",
    "print(f'Printing \"Hello!\" just now took {toc - tic} seconds')"
   ]
  },
  {
   "cell_type": "code",
   "execution_count": null,
   "metadata": {},
   "outputs": [],
   "source": [
    "# Another way of measuring time is to use the %timeit ipython magic\n",
    "# See also https://ipython.readthedocs.io/en/stable/interactive/magics.html\n",
    "\n",
    "def random_mean(N):\n",
    "    return np.mean(np.random.random(N))\n",
    "\n",
    "%timeit mean = random_mean(10000)"
   ]
  },
  {
   "cell_type": "markdown",
   "metadata": {},
   "source": [
    "# Tip no. 1: Avoid for-loops when possible"
   ]
  },
  {
   "cell_type": "code",
   "execution_count": null,
   "metadata": {},
   "outputs": [],
   "source": [
    "def sum_of_integers_pure_python(N):\n",
    "    total = 0\n",
    "    for i in range(N):\n",
    "        total += i\n",
    "    return total\n",
    "\n",
    "def sum_of_integers_numpy(N):\n",
    "    return np.sum(np.arange(N))\n",
    "\n",
    "def sum_of_integers_built_in(N):\n",
    "    return sum(np.arange(N))"
   ]
  },
  {
   "cell_type": "code",
   "execution_count": null,
   "metadata": {},
   "outputs": [],
   "source": [
    "# Simple timing with time()\n",
    "\n",
    "N = 10000000\n",
    "\n",
    "tic = time()\n",
    "total = sum_of_integers_pure_python(N)\n",
    "toc = time()\n",
    "\n",
    "print(f'Calculation took {toc - tic:.5f} seconds in pure python')\n",
    "\n",
    "tic = time()\n",
    "total = sum_of_integers_numpy(N)\n",
    "toc = time()\n",
    "\n",
    "print(f'Calculation took {toc - tic:.5f} seconds with numpy')\n",
    "\n",
    "tic = time()\n",
    "total = sum_of_integers_built_in(N)\n",
    "toc = time()\n",
    "\n",
    "print(f'Calculation took {toc - tic:.5f} seconds with built-in sum')"
   ]
  },
  {
   "cell_type": "code",
   "execution_count": null,
   "metadata": {},
   "outputs": [],
   "source": [
    "# More fancy timing with %timeit\n",
    "# (takes a bit longer because it runs several times to get statistics)\n",
    "\n",
    "N = 10000000\n",
    "\n",
    "print('Pure python: ', end = '')\n",
    "%timeit sum_of_integers_pure_python(N)\n",
    "\n",
    "print('Numpy:       ', end = '')\n",
    "%timeit sum_of_integers_numpy(N)"
   ]
  },
  {
   "cell_type": "markdown",
   "metadata": {},
   "source": [
    "# Tip no. 2: Operate on whole arrays where possible\n",
    "\n",
    "Most numpy functions, including functions that operate on vectors and matrices, can operate on whole arrays of vectors and matrices."
   ]
  },
  {
   "cell_type": "code",
   "execution_count": null,
   "metadata": {},
   "outputs": [],
   "source": [
    "# Take sin() of all elements in array\n",
    "\n",
    "N = 1000000\n",
    "x = np.linspace(0, 1, N)\n",
    "y = np.zeros(N)\n",
    "\n",
    "tic = time()\n",
    "for i in range(N):\n",
    "    y[i] = np.sin(x[i])\n",
    "toc = time()\n",
    "print(f'Calculation took {toc - tic:.5f} seconds with loop over elements')\n",
    "\n",
    "tic = time()\n",
    "y = np.sin(x)\n",
    "toc = time()\n",
    "print(f'Calculation took {toc - tic:.5f} seconds with numpy')"
   ]
  },
  {
   "cell_type": "code",
   "execution_count": null,
   "metadata": {},
   "outputs": [],
   "source": [
    "# Less obvious example: Find eigenvalues and eigenvectors of 200000 2x2 matrices\n",
    "N = 200000\n",
    "matrices = np.random.random(size = (N, 2, 2))\n",
    "eigvals = np.zeros((N, 2))\n",
    "eigvecs = np.zeros((N, 2, 2))\n",
    "\n",
    "tic = time()\n",
    "for i in range(N):\n",
    "    eigvals[i,:], eigvecs[i,:] = np.linalg.eig(matrices[i,:])\n",
    "toc = time()\n",
    "print(f'Calculation took {toc - tic:.5f} seconds with loop over 2x2 matrices')\n",
    "\n",
    "tic = time()\n",
    "eigvals, eigvecs = np.linalg.eig(matrices)\n",
    "toc = time()\n",
    "print(f'Calculation took {toc - tic:.5f} seconds with numpy')"
   ]
  },
  {
   "cell_type": "markdown",
   "metadata": {},
   "source": [
    "# Tip no. 3: Use profiling to _measure_ where the time is spent"
   ]
  },
  {
   "cell_type": "code",
   "execution_count": 2,
   "metadata": {},
   "outputs": [],
   "source": [
    "# Load an extension for profiling\n",
    "# If this fails, try installing line_profiler with pip or conda\n",
    "%load_ext line_profiler"
   ]
  },
  {
   "cell_type": "code",
   "execution_count": 3,
   "metadata": {},
   "outputs": [],
   "source": [
    "def do_something(x):\n",
    "    # Multiply all elements by 2\n",
    "    for i in range(len(x)):\n",
    "        x[i] = 2*x[i]\n",
    "    return x\n",
    "\n",
    "def do_something_else(x):\n",
    "    # Shuffle array by swapping random elements\n",
    "    # (this is just an example, not a good shuffling algorithm)\n",
    "    for i in range(len(x)):\n",
    "        i = randint(0, len(x)-1)\n",
    "        j = randint(0, len(x)-1)\n",
    "        x[i], x[j] = x[j], x[i]\n",
    "    return x\n",
    "\n",
    "def simulation(x, N):\n",
    "    for i in range(N):\n",
    "        x = do_something(x)\n",
    "        x = do_something_else(x)\n",
    "    return x"
   ]
  },
  {
   "cell_type": "code",
   "execution_count": 4,
   "metadata": {},
   "outputs": [],
   "source": [
    "# Try profiling\n",
    "N = 1000\n",
    "x = np.random.random(N)\n",
    "\n",
    "%lprun -f simulation x = simulation(x, N)"
   ]
  },
  {
   "cell_type": "code",
   "execution_count": 6,
   "metadata": {},
   "outputs": [],
   "source": [
    "def do_something_else_faster(x):\n",
    "    # Use numpy built-in function to shuffle\n",
    "    # (this function shuffles in place, so must return separately)\n",
    "    np.random.shuffle(x)\n",
    "    return x\n",
    "\n",
    "def simulation(x, N):\n",
    "    for i in range(N):\n",
    "        x = do_something(x)\n",
    "        x = do_something_else_faster(x)\n",
    "    return x"
   ]
  },
  {
   "cell_type": "code",
   "execution_count": 7,
   "metadata": {},
   "outputs": [],
   "source": [
    "# Try profiling again\n",
    "\n",
    "N = 1000\n",
    "x = np.random.random(N)\n",
    "\n",
    "%lprun -f simulation x = simulation(x, N)"
   ]
  },
  {
   "cell_type": "code",
   "execution_count": null,
   "metadata": {},
   "outputs": [],
   "source": [
    "def do_something_faster(x):\n",
    "    # Multiply all elements by 2\n",
    "    return 2*x\n",
    "\n",
    "def simulation(x, N):\n",
    "    for i in range(N):\n",
    "        x = do_something_faster(x)\n",
    "        x = do_something_else_faster(x)\n",
    "    return x"
   ]
  },
  {
   "cell_type": "code",
   "execution_count": null,
   "metadata": {},
   "outputs": [],
   "source": [
    "# Try profiling yet again\n",
    "\n",
    "N = 1000\n",
    "x = np.random.random(N)\n",
    "\n",
    "%lprun -f simulation x = simulation(x, N)"
   ]
  },
  {
   "cell_type": "markdown",
   "metadata": {},
   "source": [
    "# Tip no. 4: Sometimes numba is useful when it's difficult to avoid for loops\n",
    "\n",
    "Numba is a just-in-time (JIT) compiler for python.\n",
    "\n",
    "https://numba.pydata.org/\n",
    "\n",
    "## Example: The Mandelbrot set\n",
    "\n",
    "The Mandelbrot set is the set of points, $c$, in the complex plane such that $z_i$ remains bounded under repeated iterations of\n",
    "$$ z_{i+1} \\to z_i^2 + c, \\;\\;\\;\\; \\mathrm{with} \\;\\; z_0 = 0 $$"
   ]
  },
  {
   "cell_type": "code",
   "execution_count": 11,
   "metadata": {},
   "outputs": [],
   "source": [
    "from numba import jit"
   ]
  },
  {
   "cell_type": "code",
   "execution_count": 12,
   "metadata": {},
   "outputs": [],
   "source": [
    "# One iterator function that can be applied to calculate both\n",
    "# the Mandelbrot and the Julia set.\n",
    "# The nopython keyword to @jit ensures that numba gives\n",
    "# an error if it cannot produce fast compiled code.\n",
    "\n",
    "# Comment out the line below, and see the difference\n",
    "@jit(nopython = True)\n",
    "def iterator(z, c, maxiter):\n",
    "    for i in range(maxiter):\n",
    "        z = z*z + c\n",
    "        if abs(z) > 2:\n",
    "            return i\n",
    "    return maxiter\n",
    "\n",
    "# Comment out the line below, and see the difference\n",
    "@jit(nopython = True)\n",
    "def mandelbrot(Nx, Ny, xmin=-2, xmax=1, ymin=-1, ymax=1, maxiter=50):\n",
    "    x = np.linspace(xmin, xmax, Nx)\n",
    "    y = np.linspace(ymin, ymax, Ny)\n",
    "    m = np.empty((Nx, Ny))\n",
    "    for i in range(Nx):\n",
    "        for j in range(Ny):\n",
    "            m[i,j] = iterator(z = 0, c = x[i] + 1j*y[j], maxiter = maxiter)\n",
    "    return x, y, m"
   ]
  },
  {
   "cell_type": "code",
   "execution_count": 14,
   "metadata": {},
   "outputs": [
    {
     "name": "stdout",
     "output_type": "stream",
     "text": [
      "Calculating the set took 0.13602 seconds\n"
     ]
    },
    {
     "data": {
      "text/plain": [
       "<matplotlib.collections.QuadMesh at 0x7f95197c2dc0>"
      ]
     },
     "execution_count": 14,
     "metadata": {},
     "output_type": "execute_result"
    },
    {
     "data": {
      "image/png": "[encoded data removed]",
      "text/plain": [
       "<Figure size 864x576 with 1 Axes>"
      ]
     },
     "metadata": {
      "needs_background": "light"
     },
     "output_type": "display_data"
    }
   ],
   "source": [
    "Nx = 1500\n",
    "Ny = 1000\n",
    "\n",
    "tic = time()\n",
    "x, y, m = mandelbrot(Nx, Ny)\n",
    "toc = time()\n",
    "print(f'Calculating the set took {toc - tic:.5f} seconds')\n",
    "\n",
    "fig = plt.figure(figsize = (12, 8))\n",
    "plt.pcolormesh(x, y, m[:-1,:-1].T, cmap = 'Greys')"
   ]
  },
  {
   "cell_type": "markdown",
   "metadata": {},
   "source": [
    "## Another example: Interactive plotting of the Julia Set"
   ]
  },
  {
   "cell_type": "code",
   "execution_count": 15,
   "metadata": {},
   "outputs": [],
   "source": [
    "from ipywidgets import interact"
   ]
  },
  {
   "cell_type": "code",
   "execution_count": 16,
   "metadata": {},
   "outputs": [],
   "source": [
    "@jit(nopython = True)\n",
    "def julia(c, Nx, Ny, xmin=-1.5, xmax=1.5, ymin=-1., ymax=1., maxiter=100):\n",
    "    x = np.linspace(xmin, xmax, Nx)\n",
    "    y = np.linspace(ymin, ymax, Ny)\n",
    "    m = np.empty((Nx, Ny))\n",
    "    for i in range(Nx):\n",
    "        for j in range(Ny):\n",
    "            m[i,j] = iterator(z = x[i] + 1j*y[j], c = c, maxiter = maxiter)\n",
    "    return x, y, m"
   ]
  },
  {
   "cell_type": "code",
   "execution_count": 17,
   "metadata": {},
   "outputs": [
    {
     "data": {
      "application/vnd.jupyter.widget-view+json": {
       "model_id": "5cd5e351b09b42ef99c95a2e908a6481",
       "version_major": 2,
       "version_minor": 0
      },
      "text/plain": [
       "interactive(children=(FloatSlider(value=0.74, description='c', max=1.5, step=0.02), Output()), _dom_classes=('…"
      ]
     },
     "metadata": {},
     "output_type": "display_data"
    }
   ],
   "source": [
    "def plotter(c):\n",
    "    Nx = 300\n",
    "    Ny = 200\n",
    "    c = 0.02 + 1j*c\n",
    "    x, y, m = julia(c, Nx, Ny)\n",
    "    fig = plt.figure(1, figsize = (10,6))\n",
    "    plt.pcolormesh(x, y, m[:-1,:-1].T, cmap = 'viridis')\n",
    "\n",
    "slider = interact(plotter, c = (0.0, 1.5, 0.02))"
   ]
  },
  {
   "cell_type": "markdown",
   "metadata": {},
   "source": [
    "# Tip no. 5: Don't store numbers as text\n",
    "## (unless it's just a few numbers, and editing a text file is convenient)\n",
    "\n",
    "* Storing a 16-digit number (with sign and exponent, and a separator) as text takes about 24 bytes.\n",
    "* Storing a double precision number (approx. 16 digits + exponential and sign) in binary format takes exactly 8 bytes.\n",
    "* Storing as binary is faster, because the contents of memory can be written directly to disk, without conversion\n",
    "* Numpy has built-in support for storing arrays in binary format:\n",
    " * https://numpy.org/doc/stable/reference/generated/numpy.save.html\n",
    " * https://numpy.org/doc/stable/reference/generated/numpy.lib.format.html#module-numpy.lib.format\n",
    "\n",
    "If you need to exchange data with another programming language, look at portable standard formats such as HDF5 and netCDF.\n",
    "* https://docs.h5py.org/en/stable/\n",
    "* https://unidata.github.io/netcdf4-python/\n",
    "* http://xarray.pydata.org/en/stable/io.html"
   ]
  },
  {
   "cell_type": "code",
   "execution_count": null,
   "metadata": {},
   "outputs": [],
   "source": [
    "# Printing -pi with 16 digits, sign and exponent as example\n",
    "print(f'{-np.pi:.16e}')"
   ]
  },
  {
   "cell_type": "code",
   "execution_count": null,
   "metadata": {},
   "outputs": [],
   "source": [
    "# Generate an array with 100000 random numbers\n",
    "a = np.random.random(100000)\n",
    "\n",
    "# Store to disk as txt\n",
    "tic = time()\n",
    "np.savetxt('a.txt', a)\n",
    "toc = time()\n",
    "print(f'Saving as text took    {(toc - tic):.5f} seconds')\n",
    "\n",
    "# Save to disk as binary\n",
    "tic = time()\n",
    "np.save('a.npy', a)\n",
    "toc = time()\n",
    "print(f'Saving as binary took  {(toc - tic):.5f} seconds')"
   ]
  },
  {
   "cell_type": "markdown",
   "metadata": {},
   "source": [
    "# Semi-realistic example: 1D advection-diffusion equation with periodic boundary conditions\n",
    "\n",
    "The one-dimensional advection-diffusion equation for constant diffusivity, $D$, and advection velocity, $v$ is:\n",
    "\n",
    "$$ \\frac{\\partial C(x,t)}{\\partial t} = D\\frac{\\partial^2 C(x,t)}{\\partial x^2} - v\\frac{\\partial C(x,t)}{\\partial z}. $$\n",
    "\n",
    "Just as an example we will solve this with central finite differences in space, and forward Euler in time (do not worry if you're not familiar with these terms, both will be covered later in the course). See for example https://en.wikipedia.org/wiki/Finite_difference\n",
    "\n",
    "We introduce discrete variables:\n",
    "\n",
    "$$ x_i = x_0 + i \\Delta x, \\;\\;\\;\\; t_n = t_0 + n \\Delta t.$$\n",
    "\n",
    "Then we discretise the spatial derivatives:\n",
    "\n",
    "$$ \\left.\\frac{\\partial^2 C(x, t)}{\\partial x^2}\\right|_{x_i} \\approx \\frac{C(x_{i+1}, t) - 2C(x_i, t) + C(x_{i-1}, t)} {\\Delta x^2},$$\n",
    "\n",
    "$$ \\left.\\frac{\\partial C(x, t)}{\\partial x}\\right|_{x_i} \\approx \\frac{C(x_{i+1}, t) - C(x_{i-1}, t)} {2 \\Delta x}.$$\n",
    "\n",
    "Combining these with the forward Euler method, we get\n",
    "\n",
    "$$ C(x_i, t_{n+1}) \\approx C(x_i, t_n) + \\Delta t \\left[ D \\frac{C(x_{i+1}, t_n) - 2C(x_i, t_n) + C(x_{i-1}, t_n)} {\\Delta x^2} - v \\frac{C(x_{i+1}, t_n) - C(x_{i-1}, t_n)} {2 \\Delta x} \\right]. $$"
   ]
  },
  {
   "cell_type": "code",
   "execution_count": null,
   "metadata": {},
   "outputs": [],
   "source": [
    "# Implementing the update rule for one timestep\n",
    "# Forward time, central space (FTCS)\n",
    "def FTCS_loop(C, D, v, dx, dt):\n",
    "    # Make a new empty array to hold the updated values\n",
    "    Cnew = np.empty_like(C)\n",
    "    # Using a for-loop to begin with\n",
    "    # Handle interior points first\n",
    "    for i in range(1, len(C)-1):\n",
    "        Cnew[i] = C[i] + dt*(D*(C[i+1] - 2*C[i] + C[i-1])/dx**2  -  v*(C[i+1] - C[i-1])/(2*dx))\n",
    "    # Then, handle boundary points to get periodic BC\n",
    "    Cnew[ 0] = C[ 0] + dt*(D*(C[1] - 2*C[ 0] + C[-1])/dx**2  -  v*(C[1] - C[-1])/(2*dx))\n",
    "    Cnew[-1] = C[-1] + dt*(D*(C[0] - 2*C[-1] + C[-2])/dx**2  -  v*(C[0] - C[-2])/(2*dx))\n",
    "    # Return the updated values\n",
    "    return Cnew\n",
    "\n",
    "# A function to run a whole simulation\n",
    "def run_loop(C0, D, v, X, T):\n",
    "    # Make a copy to avoid overwriting the initial condition\n",
    "    C = C0.copy()\n",
    "    # Find dx and dt (assuming constant spacing)\n",
    "    dx = X[1] - X[0]\n",
    "    dt = T[1] - T[0]\n",
    "    # Run simulation for each value in T\n",
    "    for i in range(len(T)):\n",
    "        C = FTCS_loop(C, D, v, dx, dt)\n",
    "    # Return results at\n",
    "    return C"
   ]
  },
  {
   "cell_type": "code",
   "execution_count": null,
   "metadata": {},
   "outputs": [],
   "source": [
    "# Set up and run simulation\n",
    "D = 0.002 # Diffusivity\n",
    "v = 0.1 # Advection velocity\n",
    "T = np.linspace(0, 2, 8001) # time coordinates\n",
    "X = np.linspace(0, 1, 1001) # x coordinates\n",
    "# Initial concentration\n",
    "mu = 0.5\n",
    "sigma = 0.1\n",
    "C0 = (1/(sigma*np.sqrt(2*np.pi))) * np.exp(-(X - mu)**2 / (2*sigma**2))\n",
    "\n",
    "# Check stability (this number should be smaller than 1/2)\n",
    "print(f'D dt/dx**2 = {D*(T[1]-T[0])/(X[1]-X[0])**2:.4f}')\n",
    "\n",
    "tic = time()\n",
    "C = run_loop(C0, D, v, X, T)\n",
    "toc = time()\n",
    "print(f'Running simulation took {toc - tic:.5f} seconds')"
   ]
  },
  {
   "cell_type": "code",
   "execution_count": null,
   "metadata": {},
   "outputs": [],
   "source": [
    "fig = plt.figure(figsize = (12, 6))\n",
    "plt.plot(X, C0, label = '$T_0$')\n",
    "plt.plot(X, C, label = '$T_{end}$')\n",
    "plt.legend(fontsize = 14)\n",
    "plt.xlabel('X')\n",
    "plt.ylabel('Concentration')\n",
    "plt.tight_layout()"
   ]
  },
  {
   "cell_type": "code",
   "execution_count": null,
   "metadata": {},
   "outputs": [],
   "source": [
    "# Profiling to find out where time is spent\n",
    "%lprun -f FTCS_loop run_loop(C0, D, v, X, T)"
   ]
  },
  {
   "cell_type": "markdown",
   "metadata": {},
   "source": [
    "## Step one: Get rid of the inner for loop"
   ]
  },
  {
   "cell_type": "code",
   "execution_count": null,
   "metadata": {},
   "outputs": [],
   "source": [
    "# Implementing the update rule for one timestep\n",
    "# Forward time, central space (FTCS)\n",
    "def FTCS_array(C, D, v, dx, dt):\n",
    "    # Make a new empty array to hold the updated values\n",
    "    Cnew = np.empty_like(C)\n",
    "    # Using offset indexing of array to avoid for loop\n",
    "    # Handle interior points first\n",
    "    Cnew[1:-1] = C[1:-1] + dt*(D*(C[2:] - 2*C[1:-1] + C[:-2])/dx**2  -  v*(C[2:] - C[:-2])/(2*dx))\n",
    "    # Then, handle boundary points to get periodic BC\n",
    "    Cnew[ 0] = C[ 0] + dt*(D*(C[1] - 2*C[ 0] + C[-1])/dx**2  -  v*(C[1] - C[-1])/(2*dx))\n",
    "    Cnew[-1] = C[-1] + dt*(D*(C[0] - 2*C[-1] + C[-2])/dx**2  -  v*(C[0] - C[-2])/(2*dx))\n",
    "    # Return the updated values\n",
    "    return Cnew\n",
    "\n",
    "# A function to run a whole simulation\n",
    "def run_array(C0, D, v, X, T):\n",
    "    # Make a copy to avoid overwriting the initial condition\n",
    "    C = C0.copy()\n",
    "    # Find dx and dt (assuming constant spacing)\n",
    "    dx = X[1] - X[0]\n",
    "    dt = T[1] - T[0]\n",
    "    # Run simulation for each value in T\n",
    "    for i in range(len(T)):\n",
    "        C = FTCS_array(C, D, v, dx, dt)\n",
    "    # Return results at\n",
    "    return C"
   ]
  },
  {
   "cell_type": "code",
   "execution_count": null,
   "metadata": {},
   "outputs": [],
   "source": [
    "# Set up and run simulation\n",
    "D = 0.002 # Diffusivity\n",
    "v = 0.1 # Advection velocity\n",
    "T = np.linspace(0, 2, 8001) # time coordinates\n",
    "X = np.linspace(0, 1, 1001) # x coordinates\n",
    "# Initial concentration\n",
    "mu = 0.5\n",
    "sigma = 0.1\n",
    "C0 = (1/(sigma*np.sqrt(2*np.pi))) * np.exp(-(X - mu)**2 / (2*sigma**2))\n",
    "\n",
    "# Check stability (this number should be smaller than 1/2)\n",
    "print(f'D dt/dx**2 = {D*(T[1]-T[0])/(X[1]-X[0])**2:.4f}')\n",
    "\n",
    "tic = time()\n",
    "C = run_array(C0, D, v, X, T)\n",
    "toc = time()\n",
    "print(f'Running simulation took {toc - tic:.5f} seconds')"
   ]
  },
  {
   "cell_type": "code",
   "execution_count": null,
   "metadata": {},
   "outputs": [],
   "source": [
    "fig = plt.figure(figsize = (12, 6))\n",
    "plt.plot(X, C0, label = '$T_0$')\n",
    "plt.plot(X, C, label = '$T_{end}$')\n",
    "plt.legend(fontsize = 14)\n",
    "plt.xlabel('X')\n",
    "plt.ylabel('Concentration')\n",
    "plt.tight_layout()"
   ]
  },
  {
   "cell_type": "code",
   "execution_count": null,
   "metadata": {},
   "outputs": [],
   "source": [
    "# Profiling to find out where time is spent\n",
    "%lprun -f FTCS_array run_array(C0, D, v, X, T)"
   ]
  },
  {
   "cell_type": "markdown",
   "metadata": {},
   "source": [
    "## Step 2: Other minor improvements:\n",
    "* Avoid handling boundary conditions separately\n",
    "* Avoid copying array every timestep\n",
    "* Simplify expressions to reduce number of operations"
   ]
  },
  {
   "cell_type": "code",
   "execution_count": null,
   "metadata": {},
   "outputs": [],
   "source": [
    "# Implementing the update rule for one timestep\n",
    "# Forward time, central space (FTCS)\n",
    "def FTCS_array_ghost(C, D, v, dx, dt):\n",
    "    # prefactors\n",
    "    a = dt/(dx**2)\n",
    "    b = dt/(2*dx)\n",
    "    C[1:-1] = (1 - 2*D*a)*C[1:-1] + (D*a - v*b)*C[2:] + (D*a + v*b)*C[:-2]\n",
    "    # Copy boundary points to opposite end\n",
    "    C[-1] = C[ 1] # First real point copied to last ghost point\n",
    "    C[ 0] = C[-2] # Last real point copied to first ghost point\n",
    "    # Return the updated values\n",
    "    return C\n",
    "\n",
    "# A function to run a whole simulation\n",
    "def run_array_ghost(C0, D, v, X, T):\n",
    "    # Make an array with two extra points (ghost points),\n",
    "    # to facilitate dealing with boundary conditions\n",
    "    C = np.empty(C0.size + 2)\n",
    "    # Make a copy to avoid overwriting the initial condition\n",
    "    C[1:-1] = C0.copy()\n",
    "    # Copy boundary points to opposite end\n",
    "    C[ 0] = C[-2] # First real point copied to last ghost point\n",
    "    C[-1] = C[-1] # Last real point copied to first ghost point\n",
    "    # Find dx and dt (assuming constant spacing)\n",
    "    dx = X[1] - X[0]\n",
    "    dt = T[1] - T[0]\n",
    "    # Run simulation for each value in T\n",
    "    for i in range(len(T)):\n",
    "        C = FTCS_array_ghost(C, D, v, dx, dt)\n",
    "    # Return only the real points\n",
    "    return C[1:-1]"
   ]
  },
  {
   "cell_type": "code",
   "execution_count": null,
   "metadata": {},
   "outputs": [],
   "source": [
    "# Set up and run simulation\n",
    "D = 0.002 # Diffusivity\n",
    "v = 0.1 # Advection velocity\n",
    "T = np.linspace(0, 2, 8001) # time coordinates\n",
    "X = np.linspace(0, 1, 1001) # x coordinates\n",
    "# Initial concentration\n",
    "mu = 0.5\n",
    "sigma = 0.1\n",
    "C0 = (1/(sigma*np.sqrt(2*np.pi))) * np.exp(-(X - mu)**2 / (2*sigma**2))\n",
    "\n",
    "# Check stability (this number should be smaller than 1/2)\n",
    "print(f'D dt/dx**2 = {D*(T[1]-T[0])/(X[1]-X[0])**2:.4f}')\n",
    "\n",
    "tic = time()\n",
    "C = run_array_ghost(C0, D, v, X, T)\n",
    "toc = time()\n",
    "print(f'Running simulation took {toc - tic:.5f} seconds')"
   ]
  },
  {
   "cell_type": "code",
   "execution_count": null,
   "metadata": {},
   "outputs": [],
   "source": [
    "fig = plt.figure(figsize = (12, 6))\n",
    "plt.plot(X, C0, label = '$T_0$')\n",
    "plt.plot(X, C, label = '$T_{end}$')\n",
    "plt.legend(fontsize = 14)\n",
    "plt.xlabel('X')\n",
    "plt.ylabel('Concentration')\n",
    "plt.tight_layout()"
   ]
  },
  {
   "cell_type": "code",
   "execution_count": null,
   "metadata": {},
   "outputs": [],
   "source": [
    "# Profiling to find out where time is spent\n",
    "%lprun -f FTCS_array_ghost run_array_ghost(C0, D, v, X, T)"
   ]
  },
  {
   "cell_type": "markdown",
   "metadata": {},
   "source": [
    "# Step 3: Compile with numba\n",
    "## (should maybe have been Step 0, see below)\n",
    "\n",
    "Some things to remember with numba:\n",
    "* A function compiled with numba can only call:\n",
    " * Numpy functions\n",
    " * Other functions that are also compiled with numba\n",
    "* A function compiled with numba should only take numpy arrays and numbers as input\n",
    "* A function is compiled the first time you run it (just-in-time compilation, jit)\n",
    "* For more advanced use, refer to the documentation: https://numba.pydata.org/\n",
    "\n",
    "If you use numba in a jupyter notebook, be aware that if you re-run the cell where the function is defined, it will be compiled again the next time you run it. So if you keep re-running the cell where the function is defined, you will keep re-compiling the function, which takes time."
   ]
  },
  {
   "cell_type": "code",
   "execution_count": null,
   "metadata": {},
   "outputs": [],
   "source": [
    "# Implementing the update rule for one timestep\n",
    "# Forward time, central space (FTCS)\n",
    "@jit(nopython = True)\n",
    "def FTCS_array_ghost_numba(C, D, v, dx, dt):\n",
    "    # prefactors\n",
    "    a = dt/(dx**2)\n",
    "    b = dt/(2*dx)\n",
    "    C[1:-1] = (1 - 2*D*a)*C[1:-1] + (D*a - v*b)*C[2:] + (D*a + v*b)*C[:-2]\n",
    "    # Copy boundary points to opposite end\n",
    "    C[-1] = C[ 1] # First real point copied to last ghost point\n",
    "    C[ 0] = C[-2] # Last real point copied to first ghost point\n",
    "    # Return the updated values\n",
    "    return C\n",
    "\n",
    "# A function to run a whole simulation\n",
    "@jit(nopython = True)\n",
    "def run_array_ghost_numba(C0, D, v, X, T):\n",
    "    # Make an array with two extra points (ghost points),\n",
    "    # to facilitate dealing with boundary conditions\n",
    "    C = np.empty(C0.size + 2)\n",
    "    # Make a copy to avoid overwriting the initial condition\n",
    "    C[1:-1] = C0.copy()\n",
    "    # Copy boundary points to opposite end\n",
    "    C[ 0] = C[-2] # First real point copied to last ghost point\n",
    "    C[-1] = C[-1] # Last real point copied to first ghost point\n",
    "    # Find dx and dt (assuming constant spacing)\n",
    "    dx = X[1] - X[0]\n",
    "    dt = T[1] - T[0]\n",
    "    # Run simulation for each value in T\n",
    "    for i in range(len(T)):\n",
    "        C = FTCS_array_ghost_numba(C, D, v, dx, dt)\n",
    "    # Return only the real points\n",
    "    return C[1:-1]"
   ]
  },
  {
   "cell_type": "code",
   "execution_count": null,
   "metadata": {},
   "outputs": [],
   "source": [
    "# Set up and run simulation\n",
    "D = 0.002 # Diffusivity\n",
    "v = 0.1 # Advection velocity\n",
    "T = np.linspace(0, 2, 8001) # time coordinates\n",
    "X = np.linspace(0, 1, 1001) # x coordinates\n",
    "# Initial concentration\n",
    "mu = 0.5\n",
    "sigma = 0.1\n",
    "C0 = (1/(sigma*np.sqrt(2*np.pi))) * np.exp(-(X - mu)**2 / (2*sigma**2))\n",
    "\n",
    "# Check stability (this number should be smaller than 1/2)\n",
    "print(f'D dt/dx**2 = {D*(T[1]-T[0])/(X[1]-X[0])**2:.4f}')\n",
    "\n",
    "tic = time()\n",
    "C = run_array_ghost_numba(C0, D, v, X, T)\n",
    "toc = time()\n",
    "print(f'Running simulation took {toc - tic:.5f} seconds')"
   ]
  },
  {
   "cell_type": "markdown",
   "metadata": {},
   "source": [
    "# Step 0: Go back to the original slow functions with a loop over array elements, and compile that with numba\n",
    "\n",
    "Actually, this turns out (in this case, for these parameters) to be just as fast as compiling the optimised version above."
   ]
  },
  {
   "cell_type": "code",
   "execution_count": null,
   "metadata": {},
   "outputs": [],
   "source": [
    "# Implementing the update rule for one timestep\n",
    "# Forward time, central space (FTCS)\n",
    "@jit(nopython=True, parallel = True)\n",
    "def FTCS_loop(C, D, v, dx, dt):\n",
    "    # Make a new empty array to hold the updated values\n",
    "    Cnew = np.empty_like(C)\n",
    "    # Using a for-loop to begin with\n",
    "    # Handle interior points first\n",
    "    for i in prange(1, len(C)-1):\n",
    "        Cnew[i] = C[i] + dt*(D*(C[i+1] - 2*C[i] + C[i-1])/dx**2  -  v*(C[i+1] - C[i-1])/(2*dx))\n",
    "    # Then, handle boundary points to get periodic BC\n",
    "    Cnew[ 0] = C[ 0] + dt*(D*(C[1] - 2*C[ 0] + C[-1])/dx**2  -  v*(C[1] - C[-1])/(2*dx))\n",
    "    Cnew[-1] = C[-1] + dt*(D*(C[0] - 2*C[-1] + C[-2])/dx**2  -  v*(C[0] - C[-2])/(2*dx))\n",
    "    # Return the updated values\n",
    "    return Cnew\n",
    "\n",
    "# A function to run a whole simulation\n",
    "@jit(nopython=True)\n",
    "def run_loop(C0, D, v, X, T):\n",
    "    # Make a copy to avoid overwriting the initial condition\n",
    "    C = C0.copy()\n",
    "    # Find dx and dt (assuming constant spacing)\n",
    "    dx = X[1] - X[0]\n",
    "    dt = T[1] - T[0]\n",
    "    # Run simulation for each value in T\n",
    "    for i in range(len(T)):\n",
    "        C = FTCS_loop(C, D, v, dx, dt)\n",
    "    # Return results at\n",
    "    return C"
   ]
  },
  {
   "cell_type": "code",
   "execution_count": null,
   "metadata": {},
   "outputs": [],
   "source": [
    "# Set up and run simulation\n",
    "D = 0.002 # Diffusivity\n",
    "v = 0.1 # Advection velocity\n",
    "T = np.linspace(0, 2, 8001) # time coordinates\n",
    "X = np.linspace(0, 1, 1001) # x coordinates\n",
    "# Initial concentration\n",
    "mu = 0.5\n",
    "sigma = 0.1\n",
    "C0 = (1/(sigma*np.sqrt(2*np.pi))) * np.exp(-(X - mu)**2 / (2*sigma**2))\n",
    "\n",
    "# Check stability (this number should be smaller than 1/2)\n",
    "print(f'D dt/dx**2 = {D*(T[1]-T[0])/(X[1]-X[0])**2:.4f}')\n",
    "\n",
    "tic = time()\n",
    "C = run_loop(C0, D, v, X, T)\n",
    "toc = time()\n",
    "print(f'Running simulation took {toc - tic:.5f} seconds')"
   ]
  },
  {
   "cell_type": "code",
   "execution_count": null,
   "metadata": {},
   "outputs": [],
   "source": []
  }
 ],
 "metadata": {
  "kernelspec": {
   "display_name": "Python 3",
   "language": "python",
   "name": "python3"
  },
  "language_info": {
   "codemirror_mode": {
    "name": "ipython",
    "version": 3
   },
   "file_extension": ".py",
   "mimetype": "text/x-python",
   "name": "python",
   "nbconvert_exporter": "python",
   "pygments_lexer": "ipython3",
   "version": "3.8.5"
  }
 },
 "nbformat": 4,
 "nbformat_minor": 4
}
